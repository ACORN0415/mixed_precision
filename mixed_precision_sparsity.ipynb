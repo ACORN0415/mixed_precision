{
 "cells": [
  {
   "cell_type": "code",
   "execution_count": 1,
   "metadata": {},
   "outputs": [],
   "source": [
    "import torch\n",
    "import torch.nn as nn\n",
    "import torch.optim as optim\n",
    "from torch.utils.data import DataLoader\n",
    "from transformers import RobertaForSequenceClassification, RobertaTokenizer\n",
    "from transformers import get_scheduler\n",
    "from datasets import load_dataset\n",
    "import evaluate\n",
    "import numpy as np\n",
    "import time\n",
    "import csv\n",
    "from tqdm import tqdm\n",
    "import torch.nn.utils.prune as prune\n",
    "import os\n",
    "import pandas as pd\n",
    "\n"
   ]
  },
  {
   "cell_type": "code",
   "execution_count": 2,
   "metadata": {},
   "outputs": [],
   "source": [
    "import random\n",
    "\n",
    "def set_seed(seed):\n",
    "    random.seed(seed)\n",
    "    np.random.seed(seed)\n",
    "    torch.manual_seed(seed)\n",
    "    torch.cuda.manual_seed(seed)\n",
    "    torch.backends.cudnn.deterministic = True\n",
    "    torch.backends.cudnn.benchmark = False\n",
    "\n",
    "# 고정된 시드 설정\n",
    "set_seed(42)"
   ]
  },
  {
   "cell_type": "code",
   "execution_count": 3,
   "metadata": {},
   "outputs": [],
   "source": [
    "# 데이터셋 로드 및 토큰화\n",
    "dataset = load_dataset(\"glue\", \"sst2\")\n",
    "tokenizer = RobertaTokenizer.from_pretrained('roberta-base')\n"
   ]
  },
  {
   "cell_type": "code",
   "execution_count": 4,
   "metadata": {},
   "outputs": [],
   "source": [
    "def tokenize_function(examples):\n",
    "    return tokenizer(examples['sentence'], padding='max_length', truncation=True)\n"
   ]
  },
  {
   "cell_type": "code",
   "execution_count": 5,
   "metadata": {},
   "outputs": [],
   "source": [
    "tokenized_datasets = dataset.map(tokenize_function, remove_columns=['sentence', 'idx'], batched=True)\n",
    "tokenized_datasets = tokenized_datasets.rename_column(\"label\", \"labels\")\n",
    "tokenized_datasets.set_format(\"torch\")\n",
    "\n",
    "train_dataset = tokenized_datasets['train']\n",
    "eval_dataset = tokenized_datasets['validation']"
   ]
  },
  {
   "cell_type": "code",
   "execution_count": 6,
   "metadata": {},
   "outputs": [],
   "source": [
    "#how to split train_dataset into train_dataset and eval_dataset\n",
    "#train_dataset2 = tokenized_datasets['train'].select(range(100))"
   ]
  },
  {
   "cell_type": "code",
   "execution_count": 7,
   "metadata": {},
   "outputs": [],
   "source": [
    "#train_dataset2"
   ]
  },
  {
   "cell_type": "code",
   "execution_count": 8,
   "metadata": {},
   "outputs": [],
   "source": [
    "#train_dataloader2 = DataLoader(train_dataset2, batch_size=32)\n"
   ]
  },
  {
   "cell_type": "code",
   "execution_count": 9,
   "metadata": {},
   "outputs": [],
   "source": [
    "# PyTorch DataLoader 생성\n",
    "train_dataloader = DataLoader(train_dataset, batch_size=32, shuffle=True)\n",
    "eval_dataloader = DataLoader(eval_dataset, batch_size=32)\n",
    "#train dataset 0.1만큼을 validation dataset으로 사용\n",
    "#train_dataset2, test_train_dataset = train_dataset.train_test_split(test_size=0.1)\n",
    "#train_dataloader2 = DataLoader(test_train_dataset, batch_size=32, shuffle=True)\n",
    "#test_train_dataloader = DataLoader(, batch_size=32)"
   ]
  },
  {
   "cell_type": "code",
   "execution_count": 10,
   "metadata": {},
   "outputs": [],
   "source": [
    "# 모델 로드 및 GPU 설정\n",
    "device = torch.device(\"cuda\") if torch.cuda.is_available() else torch.device(\"cpu\")\n"
   ]
  },
  {
   "cell_type": "code",
   "execution_count": 11,
   "metadata": {},
   "outputs": [],
   "source": [
    "# 옵티마이저와 스케줄러 설정\n",
    "def get_optimizer_and_scheduler(model, num_training_steps):\n",
    "    optimizer = optim.AdamW(model.parameters(), lr=1e-5)\n",
    "    lr_scheduler = get_scheduler(\n",
    "        name=\"linear\", optimizer=optimizer, num_warmup_steps=0, num_training_steps=num_training_steps\n",
    "    )\n",
    "    return optimizer, lr_scheduler"
   ]
  },
  {
   "cell_type": "code",
   "execution_count": 12,
   "metadata": {},
   "outputs": [],
   "source": [
    "# 평가 메트릭 설정\n",
    "metric = evaluate.load(\"accuracy\")\n",
    "\n",
    "def compute_metrics(predictions, labels):\n",
    "    preds = np.argmax(predictions, axis=-1)\n",
    "    return metric.compute(predictions=preds, references=labels)\n"
   ]
  },
  {
   "cell_type": "code",
   "execution_count": 13,
   "metadata": {},
   "outputs": [],
   "source": [
    "# 프루닝 함수\n",
    "def prune_model(model, amount):\n",
    "    for name, module in model.named_modules():\n",
    "        if isinstance(module, nn.Linear):\n",
    "            prune.l1_unstructured(module, name='weight', amount=amount)\n"
   ]
  },
  {
   "cell_type": "code",
   "execution_count": 14,
   "metadata": {},
   "outputs": [],
   "source": [
    "# 프루닝된 가중치를 COO 포맷으로 저장\n",
    "def save_pruned_weights_in_coo_format(model, prune_amount):\n",
    "    pruned_weights_dir = f\"pruned_weights_coo/{prune_amount}\"\n",
    "    os.makedirs(pruned_weights_dir, exist_ok=True)\n",
    "    \n",
    "    for name, module in model.named_modules():\n",
    "        if isinstance(module, nn.Linear):\n",
    "            weight = module.weight.detach().cpu()\n",
    "            # 프루닝된 가중치 텐서를 희소 텐서로 변환\n",
    "            coo_weight = weight.to_sparse_coo()\n",
    "            # 파일로 저장 (torch 형식으로 저장)\n",
    "            torch.save(coo_weight, os.path.join(pruned_weights_dir, f\"{name}_weight_coo.pth\"))\n"
   ]
  },
  {
   "cell_type": "code",
   "execution_count": 15,
   "metadata": {},
   "outputs": [],
   "source": [
    "# 프루닝된 가중치를 로드\n",
    "def load_pruned_weights(model, prune_amount):\n",
    "    pruned_weights_dir = f\"pruned_weights_coo/{prune_amount}\"\n",
    "    \n",
    "    for name, module in model.named_modules():\n",
    "        if isinstance(module, nn.Linear):\n",
    "            coo_weight = torch.load(os.path.join(pruned_weights_dir, f\"{name}_weight_coo.pth\"))\n",
    "            module.weight = torch.nn.Parameter(coo_weight.to_dense())"
   ]
  },
  {
   "cell_type": "code",
   "execution_count": 16,
   "metadata": {},
   "outputs": [],
   "source": [
    "def train_and_evaluate(model, train_dataloader, eval_dataloader, amp_enabled, num_epochs=20):\n",
    "    optimizer, lr_scheduler = get_optimizer_and_scheduler(model, num_epochs * len(train_dataloader))\n",
    "    scaler = torch.amp.GradScaler(enabled=amp_enabled)\n",
    "\n",
    "    best_acc = 0\n",
    "    early_stop_counter = 0\n",
    "    early_stop_patience = 3\n",
    "    min_epochs = 5\n",
    "    \n",
    "    epoch_times = []  # 에폭마다의 학습 시간을 저장할 리스트\n",
    "    \n",
    "    # 학습 루프\n",
    "    for epoch in range(num_epochs):\n",
    "        epoch_start_time = time.time()  # 에폭 시작 시간 기록\n",
    "\n",
    "        model.train()\n",
    "        loop = tqdm(train_dataloader, leave=True)\n",
    "        for batch in loop:\n",
    "            batch = {k: v.to(device) for k, v in batch.items()}\n",
    "            optimizer.zero_grad()\n",
    "\n",
    "            with torch.amp.autocast(device_type='cuda', enabled=amp_enabled):\n",
    "                outputs = model(**batch)\n",
    "                loss = outputs.loss\n",
    "            \n",
    "            scaler.scale(loss).backward()\n",
    "            scaler.step(optimizer)\n",
    "            scaler.update()\n",
    "            lr_scheduler.step()\n",
    "\n",
    "            loop.set_description(f'Epoch {epoch + 1}')\n",
    "            loop.set_postfix(loss=loss.item())\n",
    "\n",
    "        epoch_time = time.time() - epoch_start_time  # 에폭 종료 시간 기록 및 에폭 학습 시간 계산\n",
    "        epoch_times.append(epoch_time)  # 에폭 시간을 리스트에 저장\n",
    "\n",
    "        # 평가 루프\n",
    "        model.eval()\n",
    "        all_predictions = []\n",
    "        all_labels = []\n",
    "        eval_loop = tqdm(eval_dataloader, leave=True)\n",
    "        with torch.no_grad():\n",
    "            for batch in eval_loop:\n",
    "                batch = {k: v.to(device) for k, v in batch.items()}\n",
    "                with torch.amp.autocast(device_type='cuda', enabled=amp_enabled):\n",
    "                    outputs = model(**batch)\n",
    "                logits = outputs.logits\n",
    "                labels = batch[\"labels\"]\n",
    "                all_predictions.append(logits.cpu().numpy())\n",
    "                all_labels.append(labels.cpu().numpy())\n",
    "                eval_loop.set_description(f'Evaluation')\n",
    "\n",
    "        all_predictions = np.concatenate(all_predictions, axis=0)\n",
    "        all_labels = np.concatenate(all_labels, axis=0)\n",
    "        metrics = compute_metrics(all_predictions, all_labels)\n",
    "        eval_acc = metrics['accuracy']\n",
    "        print(f\"Epoch {epoch + 1} - Accuracy: {eval_acc:.4f}\")\n",
    "\n",
    "        # Early Stopping 조건 체크\n",
    "        if epoch >= min_epochs:\n",
    "            if eval_acc > best_acc:\n",
    "                best_acc = eval_acc\n",
    "                early_stop_counter = 0\n",
    "            else:\n",
    "                early_stop_counter += 1\n",
    "\n",
    "            if early_stop_counter >= early_stop_patience:\n",
    "                print(\"Early stopping triggered\")\n",
    "                break\n",
    "\n",
    "    # 추론 시간 측정\n",
    "    start_time = time.time()\n",
    "    model.eval()\n",
    "    with torch.no_grad():\n",
    "        for batch in eval_dataloader:\n",
    "            batch = {k: v.to(device) for k, v in batch.items()}\n",
    "            with torch.amp.autocast(device_type='cuda', enabled=amp_enabled):\n",
    "                outputs = model(**batch)\n",
    "    inference_time = time.time() - start_time\n",
    "\n",
    "    # 메모리 사용량 측정\n",
    "    memory_usage = torch.cuda.max_memory_allocated(device) / 1024**2  # Convert to MB\n",
    "\n",
    "    # 에폭당 평균 학습 시간 계산\n",
    "    avg_epoch_time = sum(epoch_times) / len(epoch_times)\n",
    "\n",
    "    return best_acc, avg_epoch_time, inference_time, memory_usage"
   ]
  },
  {
   "cell_type": "code",
   "execution_count": 17,
   "metadata": {},
   "outputs": [
    {
     "name": "stderr",
     "output_type": "stream",
     "text": [
      "Some weights of RobertaForSequenceClassification were not initialized from the model checkpoint at roberta-base and are newly initialized: ['classifier.dense.bias', 'classifier.dense.weight', 'classifier.out_proj.bias', 'classifier.out_proj.weight']\n",
      "You should probably TRAIN this model on a down-stream task to be able to use it for predictions and inference.\n"
     ]
    },
    {
     "name": "stdout",
     "output_type": "stream",
     "text": [
      "Training dense model without AMP\n"
     ]
    },
    {
     "name": "stderr",
     "output_type": "stream",
     "text": [
      "Epoch 1: 100%|██████████| 2105/2105 [13:35<00:00,  2.58it/s, loss=0.28]  \n",
      "Evaluation: 100%|██████████| 28/28 [00:03<00:00,  7.38it/s]\n"
     ]
    },
    {
     "name": "stdout",
     "output_type": "stream",
     "text": [
      "Epoch 1 - Accuracy: 0.9484\n"
     ]
    },
    {
     "name": "stderr",
     "output_type": "stream",
     "text": [
      "Epoch 2: 100%|██████████| 2105/2105 [13:33<00:00,  2.59it/s, loss=0.0576]\n",
      "Evaluation: 100%|██████████| 28/28 [00:03<00:00,  7.45it/s]\n"
     ]
    },
    {
     "name": "stdout",
     "output_type": "stream",
     "text": [
      "Epoch 2 - Accuracy: 0.9404\n"
     ]
    },
    {
     "name": "stderr",
     "output_type": "stream",
     "text": [
      "Epoch 3: 100%|██████████| 2105/2105 [13:32<00:00,  2.59it/s, loss=0.109]  \n",
      "Evaluation: 100%|██████████| 28/28 [00:03<00:00,  7.43it/s]\n"
     ]
    },
    {
     "name": "stdout",
     "output_type": "stream",
     "text": [
      "Epoch 3 - Accuracy: 0.9530\n"
     ]
    },
    {
     "name": "stderr",
     "output_type": "stream",
     "text": [
      "Epoch 4: 100%|██████████| 2105/2105 [13:32<00:00,  2.59it/s, loss=0.163]  \n",
      "Evaluation: 100%|██████████| 28/28 [00:03<00:00,  7.44it/s]\n"
     ]
    },
    {
     "name": "stdout",
     "output_type": "stream",
     "text": [
      "Epoch 4 - Accuracy: 0.9392\n"
     ]
    },
    {
     "name": "stderr",
     "output_type": "stream",
     "text": [
      "Epoch 5: 100%|██████████| 2105/2105 [13:31<00:00,  2.59it/s, loss=0.0154] \n",
      "Evaluation: 100%|██████████| 28/28 [00:03<00:00,  7.44it/s]\n"
     ]
    },
    {
     "name": "stdout",
     "output_type": "stream",
     "text": [
      "Epoch 5 - Accuracy: 0.9438\n"
     ]
    },
    {
     "name": "stderr",
     "output_type": "stream",
     "text": [
      "Epoch 6: 100%|██████████| 2105/2105 [13:31<00:00,  2.59it/s, loss=0.0204]  \n",
      "Evaluation: 100%|██████████| 28/28 [00:03<00:00,  7.41it/s]\n"
     ]
    },
    {
     "name": "stdout",
     "output_type": "stream",
     "text": [
      "Epoch 6 - Accuracy: 0.9450\n"
     ]
    },
    {
     "name": "stderr",
     "output_type": "stream",
     "text": [
      "Epoch 7: 100%|██████████| 2105/2105 [13:30<00:00,  2.60it/s, loss=0.121]   \n",
      "Evaluation: 100%|██████████| 28/28 [00:03<00:00,  7.47it/s]\n"
     ]
    },
    {
     "name": "stdout",
     "output_type": "stream",
     "text": [
      "Epoch 7 - Accuracy: 0.9472\n"
     ]
    },
    {
     "name": "stderr",
     "output_type": "stream",
     "text": [
      "Epoch 8: 100%|██████████| 2105/2105 [13:30<00:00,  2.60it/s, loss=0.00822] \n",
      "Evaluation: 100%|██████████| 28/28 [00:03<00:00,  7.44it/s]\n"
     ]
    },
    {
     "name": "stdout",
     "output_type": "stream",
     "text": [
      "Epoch 8 - Accuracy: 0.9415\n"
     ]
    },
    {
     "name": "stderr",
     "output_type": "stream",
     "text": [
      "Epoch 9: 100%|██████████| 2105/2105 [13:30<00:00,  2.60it/s, loss=0.00137] \n",
      "Evaluation: 100%|██████████| 28/28 [00:03<00:00,  7.35it/s]\n"
     ]
    },
    {
     "name": "stdout",
     "output_type": "stream",
     "text": [
      "Epoch 9 - Accuracy: 0.9450\n"
     ]
    },
    {
     "name": "stderr",
     "output_type": "stream",
     "text": [
      "Epoch 10: 100%|██████████| 2105/2105 [13:30<00:00,  2.60it/s, loss=0.00195] \n",
      "Evaluation: 100%|██████████| 28/28 [00:03<00:00,  7.36it/s]\n"
     ]
    },
    {
     "name": "stdout",
     "output_type": "stream",
     "text": [
      "Epoch 10 - Accuracy: 0.9427\n",
      "Early stopping triggered\n",
      "acc_dense_no_amp 0.9472477064220184 train_time_dense_no_amp 811.9649360179901 inf_time_dense_no_amp 3.7002875804901123 memory_usage_dense_no_amp 21726.85205078125\n"
     ]
    },
    {
     "name": "stderr",
     "output_type": "stream",
     "text": [
      "/tmp/ipykernel_3889/516288128.py:19: FutureWarning: The behavior of DataFrame concatenation with empty or all-NA entries is deprecated. In a future version, this will no longer exclude empty or all-NA columns when determining the result dtypes. To retain the old behavior, exclude the relevant entries before the concat operation.\n",
      "  results_df = pd.concat([results_df, new_row], ignore_index=True)\n",
      "Some weights of RobertaForSequenceClassification were not initialized from the model checkpoint at roberta-base and are newly initialized: ['classifier.dense.bias', 'classifier.dense.weight', 'classifier.out_proj.bias', 'classifier.out_proj.weight']\n",
      "You should probably TRAIN this model on a down-stream task to be able to use it for predictions and inference.\n"
     ]
    },
    {
     "name": "stdout",
     "output_type": "stream",
     "text": [
      "Training dense model with AMP\n"
     ]
    },
    {
     "name": "stderr",
     "output_type": "stream",
     "text": [
      "Epoch 1: 100%|██████████| 2105/2105 [08:29<00:00,  4.13it/s, loss=0.0606]\n",
      "Evaluation: 100%|██████████| 28/28 [00:01<00:00, 14.23it/s]\n"
     ]
    },
    {
     "name": "stdout",
     "output_type": "stream",
     "text": [
      "Epoch 1 - Accuracy: 0.9335\n"
     ]
    },
    {
     "name": "stderr",
     "output_type": "stream",
     "text": [
      "Epoch 2: 100%|██████████| 2105/2105 [08:29<00:00,  4.13it/s, loss=0.041] \n",
      "Evaluation: 100%|██████████| 28/28 [00:01<00:00, 14.24it/s]\n"
     ]
    },
    {
     "name": "stdout",
     "output_type": "stream",
     "text": [
      "Epoch 2 - Accuracy: 0.9450\n"
     ]
    },
    {
     "name": "stderr",
     "output_type": "stream",
     "text": [
      "Epoch 3: 100%|██████████| 2105/2105 [08:29<00:00,  4.13it/s, loss=0.17]   \n",
      "Evaluation: 100%|██████████| 28/28 [00:01<00:00, 14.24it/s]\n"
     ]
    },
    {
     "name": "stdout",
     "output_type": "stream",
     "text": [
      "Epoch 3 - Accuracy: 0.9369\n"
     ]
    },
    {
     "name": "stderr",
     "output_type": "stream",
     "text": [
      "Epoch 4: 100%|██████████| 2105/2105 [08:29<00:00,  4.13it/s, loss=0.0924] \n",
      "Evaluation: 100%|██████████| 28/28 [00:01<00:00, 14.24it/s]\n"
     ]
    },
    {
     "name": "stdout",
     "output_type": "stream",
     "text": [
      "Epoch 4 - Accuracy: 0.9518\n"
     ]
    },
    {
     "name": "stderr",
     "output_type": "stream",
     "text": [
      "Epoch 5: 100%|██████████| 2105/2105 [08:29<00:00,  4.13it/s, loss=0.000941]\n",
      "Evaluation: 100%|██████████| 28/28 [00:01<00:00, 14.22it/s]\n"
     ]
    },
    {
     "name": "stdout",
     "output_type": "stream",
     "text": [
      "Epoch 5 - Accuracy: 0.9438\n"
     ]
    },
    {
     "name": "stderr",
     "output_type": "stream",
     "text": [
      "Epoch 6: 100%|██████████| 2105/2105 [08:29<00:00,  4.13it/s, loss=0.0106] \n",
      "Evaluation: 100%|██████████| 28/28 [00:01<00:00, 14.24it/s]\n"
     ]
    },
    {
     "name": "stdout",
     "output_type": "stream",
     "text": [
      "Epoch 6 - Accuracy: 0.9438\n"
     ]
    },
    {
     "name": "stderr",
     "output_type": "stream",
     "text": [
      "Epoch 7: 100%|██████████| 2105/2105 [08:29<00:00,  4.13it/s, loss=0.0144] \n",
      "Evaluation: 100%|██████████| 28/28 [00:01<00:00, 14.24it/s]\n"
     ]
    },
    {
     "name": "stdout",
     "output_type": "stream",
     "text": [
      "Epoch 7 - Accuracy: 0.9484\n"
     ]
    },
    {
     "name": "stderr",
     "output_type": "stream",
     "text": [
      "Epoch 8: 100%|██████████| 2105/2105 [08:29<00:00,  4.13it/s, loss=0.00611] \n",
      "Evaluation: 100%|██████████| 28/28 [00:01<00:00, 14.24it/s]\n"
     ]
    },
    {
     "name": "stdout",
     "output_type": "stream",
     "text": [
      "Epoch 8 - Accuracy: 0.9484\n"
     ]
    },
    {
     "name": "stderr",
     "output_type": "stream",
     "text": [
      "Epoch 9: 100%|██████████| 2105/2105 [08:29<00:00,  4.13it/s, loss=0.0107]  \n",
      "Evaluation: 100%|██████████| 28/28 [00:01<00:00, 14.24it/s]\n"
     ]
    },
    {
     "name": "stdout",
     "output_type": "stream",
     "text": [
      "Epoch 9 - Accuracy: 0.9450\n"
     ]
    },
    {
     "name": "stderr",
     "output_type": "stream",
     "text": [
      "Epoch 10: 100%|██████████| 2105/2105 [08:29<00:00,  4.13it/s, loss=0.000865]\n",
      "Evaluation: 100%|██████████| 28/28 [00:01<00:00, 14.24it/s]\n"
     ]
    },
    {
     "name": "stdout",
     "output_type": "stream",
     "text": [
      "Epoch 10 - Accuracy: 0.9450\n",
      "Early stopping triggered\n",
      "acc_dense_with_amp 0.948394495412844 train_time_dense_with_amp 509.4666059732437 inf_time_dense_with_amp 1.9208314418792725 memory_usage_dense_with_amp 21726.85205078125\n",
      "Pruning amount: 0.5\n"
     ]
    },
    {
     "name": "stderr",
     "output_type": "stream",
     "text": [
      "Some weights of RobertaForSequenceClassification were not initialized from the model checkpoint at roberta-base and are newly initialized: ['classifier.dense.bias', 'classifier.dense.weight', 'classifier.out_proj.bias', 'classifier.out_proj.weight']\n",
      "You should probably TRAIN this model on a down-stream task to be able to use it for predictions and inference.\n",
      "/tmp/ipykernel_3889/516288128.py:47: FutureWarning: You are using `torch.load` with `weights_only=False` (the current default value), which uses the default pickle module implicitly. It is possible to construct malicious pickle data which will execute arbitrary code during unpickling (See https://github.com/pytorch/pytorch/blob/main/SECURITY.md#untrusted-models for more details). In a future release, the default value for `weights_only` will be flipped to `True`. This limits the functions that could be executed during unpickling. Arbitrary objects will no longer be allowed to be loaded via this mode unless they are explicitly allowlisted by the user via `torch.serialization.add_safe_globals`. We recommend you start setting `weights_only=True` for any use case where you don't have full control of the loaded file. Please open an issue on GitHub for any issues related to this experimental feature.\n",
      "  model.load_state_dict(torch.load(\"dense_model_no_amp.pth\"))  # 저장된 모델 로드\n"
     ]
    },
    {
     "name": "stdout",
     "output_type": "stream",
     "text": [
      "Fine-tuning pruned model with 50.0% sparsity without AMP\n"
     ]
    },
    {
     "name": "stderr",
     "output_type": "stream",
     "text": [
      "Epoch 1: 100%|██████████| 2105/2105 [13:37<00:00,  2.57it/s, loss=0.016]  \n",
      "Evaluation: 100%|██████████| 28/28 [00:03<00:00,  7.35it/s]\n"
     ]
    },
    {
     "name": "stdout",
     "output_type": "stream",
     "text": [
      "Epoch 1 - Accuracy: 0.9335\n"
     ]
    },
    {
     "name": "stderr",
     "output_type": "stream",
     "text": [
      "Epoch 2: 100%|██████████| 2105/2105 [13:38<00:00,  2.57it/s, loss=0.143]  \n",
      "Evaluation: 100%|██████████| 28/28 [00:03<00:00,  7.33it/s]\n"
     ]
    },
    {
     "name": "stdout",
     "output_type": "stream",
     "text": [
      "Epoch 2 - Accuracy: 0.9381\n"
     ]
    },
    {
     "name": "stderr",
     "output_type": "stream",
     "text": [
      "Epoch 3: 100%|██████████| 2105/2105 [13:38<00:00,  2.57it/s, loss=0.0273] \n",
      "Evaluation: 100%|██████████| 28/28 [00:03<00:00,  7.33it/s]\n"
     ]
    },
    {
     "name": "stdout",
     "output_type": "stream",
     "text": [
      "Epoch 3 - Accuracy: 0.9346\n"
     ]
    },
    {
     "name": "stderr",
     "output_type": "stream",
     "text": [
      "Epoch 4: 100%|██████████| 2105/2105 [13:38<00:00,  2.57it/s, loss=0.0464]  \n",
      "Evaluation: 100%|██████████| 28/28 [00:03<00:00,  7.33it/s]\n"
     ]
    },
    {
     "name": "stdout",
     "output_type": "stream",
     "text": [
      "Epoch 4 - Accuracy: 0.9335\n"
     ]
    },
    {
     "name": "stderr",
     "output_type": "stream",
     "text": [
      "Epoch 5: 100%|██████████| 2105/2105 [13:38<00:00,  2.57it/s, loss=0.0292]  \n",
      "Evaluation: 100%|██████████| 28/28 [00:03<00:00,  7.34it/s]\n"
     ]
    },
    {
     "name": "stdout",
     "output_type": "stream",
     "text": [
      "Epoch 5 - Accuracy: 0.9392\n"
     ]
    },
    {
     "name": "stderr",
     "output_type": "stream",
     "text": [
      "Epoch 6: 100%|██████████| 2105/2105 [13:37<00:00,  2.57it/s, loss=0.0891]  \n",
      "Evaluation: 100%|██████████| 28/28 [00:03<00:00,  7.34it/s]\n"
     ]
    },
    {
     "name": "stdout",
     "output_type": "stream",
     "text": [
      "Epoch 6 - Accuracy: 0.9300\n"
     ]
    },
    {
     "name": "stderr",
     "output_type": "stream",
     "text": [
      "Epoch 7: 100%|██████████| 2105/2105 [13:37<00:00,  2.57it/s, loss=0.00992] \n",
      "Evaluation: 100%|██████████| 28/28 [00:03<00:00,  7.29it/s]\n"
     ]
    },
    {
     "name": "stdout",
     "output_type": "stream",
     "text": [
      "Epoch 7 - Accuracy: 0.9335\n"
     ]
    },
    {
     "name": "stderr",
     "output_type": "stream",
     "text": [
      "Epoch 8: 100%|██████████| 2105/2105 [13:37<00:00,  2.57it/s, loss=0.0367]  \n",
      "Evaluation: 100%|██████████| 28/28 [00:03<00:00,  7.33it/s]\n"
     ]
    },
    {
     "name": "stdout",
     "output_type": "stream",
     "text": [
      "Epoch 8 - Accuracy: 0.9369\n"
     ]
    },
    {
     "name": "stderr",
     "output_type": "stream",
     "text": [
      "Epoch 9: 100%|██████████| 2105/2105 [13:37<00:00,  2.58it/s, loss=0.00119] \n",
      "Evaluation: 100%|██████████| 28/28 [00:03<00:00,  7.33it/s]\n"
     ]
    },
    {
     "name": "stdout",
     "output_type": "stream",
     "text": [
      "Epoch 9 - Accuracy: 0.9335\n"
     ]
    },
    {
     "name": "stderr",
     "output_type": "stream",
     "text": [
      "Epoch 10: 100%|██████████| 2105/2105 [13:36<00:00,  2.58it/s, loss=0.000384]\n",
      "Evaluation: 100%|██████████| 28/28 [00:03<00:00,  7.34it/s]\n"
     ]
    },
    {
     "name": "stdout",
     "output_type": "stream",
     "text": [
      "Epoch 10 - Accuracy: 0.9335\n"
     ]
    },
    {
     "name": "stderr",
     "output_type": "stream",
     "text": [
      "Epoch 11: 100%|██████████| 2105/2105 [13:37<00:00,  2.58it/s, loss=0.0915]  \n",
      "Evaluation: 100%|██████████| 28/28 [00:03<00:00,  7.33it/s]\n"
     ]
    },
    {
     "name": "stdout",
     "output_type": "stream",
     "text": [
      "Epoch 11 - Accuracy: 0.9404\n"
     ]
    },
    {
     "name": "stderr",
     "output_type": "stream",
     "text": [
      "Epoch 12: 100%|██████████| 2105/2105 [13:37<00:00,  2.57it/s, loss=0.0297]  \n",
      "Evaluation: 100%|██████████| 28/28 [00:03<00:00,  7.33it/s]\n"
     ]
    },
    {
     "name": "stdout",
     "output_type": "stream",
     "text": [
      "Epoch 12 - Accuracy: 0.9392\n"
     ]
    },
    {
     "name": "stderr",
     "output_type": "stream",
     "text": [
      "Epoch 13: 100%|██████████| 2105/2105 [13:37<00:00,  2.58it/s, loss=0.00868] \n",
      "Evaluation: 100%|██████████| 28/28 [00:03<00:00,  7.34it/s]\n"
     ]
    },
    {
     "name": "stdout",
     "output_type": "stream",
     "text": [
      "Epoch 13 - Accuracy: 0.9438\n"
     ]
    },
    {
     "name": "stderr",
     "output_type": "stream",
     "text": [
      "Epoch 14: 100%|██████████| 2105/2105 [13:37<00:00,  2.58it/s, loss=0.000879]\n",
      "Evaluation: 100%|██████████| 28/28 [00:03<00:00,  7.34it/s]\n"
     ]
    },
    {
     "name": "stdout",
     "output_type": "stream",
     "text": [
      "Epoch 14 - Accuracy: 0.9369\n"
     ]
    },
    {
     "name": "stderr",
     "output_type": "stream",
     "text": [
      "Epoch 15: 100%|██████████| 2105/2105 [13:36<00:00,  2.58it/s, loss=0.0577]  \n",
      "Evaluation: 100%|██████████| 28/28 [00:03<00:00,  7.34it/s]\n"
     ]
    },
    {
     "name": "stdout",
     "output_type": "stream",
     "text": [
      "Epoch 15 - Accuracy: 0.9381\n"
     ]
    },
    {
     "name": "stderr",
     "output_type": "stream",
     "text": [
      "Epoch 16: 100%|██████████| 2105/2105 [13:36<00:00,  2.58it/s, loss=0.0331]  \n",
      "Evaluation: 100%|██████████| 28/28 [00:03<00:00,  7.33it/s]\n"
     ]
    },
    {
     "name": "stdout",
     "output_type": "stream",
     "text": [
      "Epoch 16 - Accuracy: 0.9381\n",
      "Early stopping triggered\n",
      "acc_no_amp 0.9438073394495413 train_time_no_amp 817.6559184193611 inf_time_no_amp 3.7347540855407715 memory_usage_no_amp 22387.99462890625\n",
      "Pruning amount: 0.6\n"
     ]
    },
    {
     "name": "stderr",
     "output_type": "stream",
     "text": [
      "Some weights of RobertaForSequenceClassification were not initialized from the model checkpoint at roberta-base and are newly initialized: ['classifier.dense.bias', 'classifier.dense.weight', 'classifier.out_proj.bias', 'classifier.out_proj.weight']\n",
      "You should probably TRAIN this model on a down-stream task to be able to use it for predictions and inference.\n",
      "/tmp/ipykernel_3889/516288128.py:47: FutureWarning: You are using `torch.load` with `weights_only=False` (the current default value), which uses the default pickle module implicitly. It is possible to construct malicious pickle data which will execute arbitrary code during unpickling (See https://github.com/pytorch/pytorch/blob/main/SECURITY.md#untrusted-models for more details). In a future release, the default value for `weights_only` will be flipped to `True`. This limits the functions that could be executed during unpickling. Arbitrary objects will no longer be allowed to be loaded via this mode unless they are explicitly allowlisted by the user via `torch.serialization.add_safe_globals`. We recommend you start setting `weights_only=True` for any use case where you don't have full control of the loaded file. Please open an issue on GitHub for any issues related to this experimental feature.\n",
      "  model.load_state_dict(torch.load(\"dense_model_no_amp.pth\"))  # 저장된 모델 로드\n"
     ]
    },
    {
     "name": "stdout",
     "output_type": "stream",
     "text": [
      "Fine-tuning pruned model with 60.0% sparsity without AMP\n"
     ]
    },
    {
     "name": "stderr",
     "output_type": "stream",
     "text": [
      "Epoch 1: 100%|██████████| 2105/2105 [13:37<00:00,  2.58it/s, loss=0.523] \n",
      "Evaluation: 100%|██████████| 28/28 [00:03<00:00,  7.35it/s]\n"
     ]
    },
    {
     "name": "stdout",
     "output_type": "stream",
     "text": [
      "Epoch 1 - Accuracy: 0.9037\n"
     ]
    },
    {
     "name": "stderr",
     "output_type": "stream",
     "text": [
      "Epoch 2: 100%|██████████| 2105/2105 [13:37<00:00,  2.57it/s, loss=0.0281]\n",
      "Evaluation: 100%|██████████| 28/28 [00:03<00:00,  7.32it/s]\n"
     ]
    },
    {
     "name": "stdout",
     "output_type": "stream",
     "text": [
      "Epoch 2 - Accuracy: 0.9174\n"
     ]
    },
    {
     "name": "stderr",
     "output_type": "stream",
     "text": [
      "Epoch 3: 100%|██████████| 2105/2105 [13:37<00:00,  2.57it/s, loss=0.112]  \n",
      "Evaluation: 100%|██████████| 28/28 [00:03<00:00,  7.34it/s]\n"
     ]
    },
    {
     "name": "stdout",
     "output_type": "stream",
     "text": [
      "Epoch 3 - Accuracy: 0.9243\n"
     ]
    },
    {
     "name": "stderr",
     "output_type": "stream",
     "text": [
      "Epoch 4: 100%|██████████| 2105/2105 [13:37<00:00,  2.57it/s, loss=0.0728] \n",
      "Evaluation: 100%|██████████| 28/28 [00:03<00:00,  7.36it/s]\n"
     ]
    },
    {
     "name": "stdout",
     "output_type": "stream",
     "text": [
      "Epoch 4 - Accuracy: 0.9300\n"
     ]
    },
    {
     "name": "stderr",
     "output_type": "stream",
     "text": [
      "Epoch 5: 100%|██████████| 2105/2105 [13:37<00:00,  2.57it/s, loss=0.0156] \n",
      "Evaluation: 100%|██████████| 28/28 [00:03<00:00,  7.33it/s]\n"
     ]
    },
    {
     "name": "stdout",
     "output_type": "stream",
     "text": [
      "Epoch 5 - Accuracy: 0.9266\n"
     ]
    },
    {
     "name": "stderr",
     "output_type": "stream",
     "text": [
      "Epoch 6: 100%|██████████| 2105/2105 [13:36<00:00,  2.58it/s, loss=0.054]  \n",
      "Evaluation: 100%|██████████| 28/28 [00:03<00:00,  7.31it/s]\n"
     ]
    },
    {
     "name": "stdout",
     "output_type": "stream",
     "text": [
      "Epoch 6 - Accuracy: 0.9323\n"
     ]
    },
    {
     "name": "stderr",
     "output_type": "stream",
     "text": [
      "Epoch 7: 100%|██████████| 2105/2105 [13:37<00:00,  2.57it/s, loss=0.136]  \n",
      "Evaluation: 100%|██████████| 28/28 [00:03<00:00,  7.35it/s]\n"
     ]
    },
    {
     "name": "stdout",
     "output_type": "stream",
     "text": [
      "Epoch 7 - Accuracy: 0.9300\n"
     ]
    },
    {
     "name": "stderr",
     "output_type": "stream",
     "text": [
      "Epoch 8: 100%|██████████| 2105/2105 [13:37<00:00,  2.57it/s, loss=0.0241] \n",
      "Evaluation: 100%|██████████| 28/28 [00:03<00:00,  7.33it/s]\n"
     ]
    },
    {
     "name": "stdout",
     "output_type": "stream",
     "text": [
      "Epoch 8 - Accuracy: 0.9278\n"
     ]
    },
    {
     "name": "stderr",
     "output_type": "stream",
     "text": [
      "Epoch 9: 100%|██████████| 2105/2105 [13:37<00:00,  2.57it/s, loss=0.0551] \n",
      "Evaluation: 100%|██████████| 28/28 [00:03<00:00,  7.28it/s]\n"
     ]
    },
    {
     "name": "stdout",
     "output_type": "stream",
     "text": [
      "Epoch 9 - Accuracy: 0.9358\n"
     ]
    },
    {
     "name": "stderr",
     "output_type": "stream",
     "text": [
      "Epoch 10: 100%|██████████| 2105/2105 [13:37<00:00,  2.57it/s, loss=0.248]   \n",
      "Evaluation: 100%|██████████| 28/28 [00:03<00:00,  7.40it/s]\n"
     ]
    },
    {
     "name": "stdout",
     "output_type": "stream",
     "text": [
      "Epoch 10 - Accuracy: 0.9381\n"
     ]
    },
    {
     "name": "stderr",
     "output_type": "stream",
     "text": [
      "Epoch 11: 100%|██████████| 2105/2105 [13:36<00:00,  2.58it/s, loss=0.005]   \n",
      "Evaluation: 100%|██████████| 28/28 [00:03<00:00,  7.33it/s]\n"
     ]
    },
    {
     "name": "stdout",
     "output_type": "stream",
     "text": [
      "Epoch 11 - Accuracy: 0.9392\n"
     ]
    },
    {
     "name": "stderr",
     "output_type": "stream",
     "text": [
      "Epoch 12: 100%|██████████| 2105/2105 [13:36<00:00,  2.58it/s, loss=0.0599]  \n",
      "Evaluation: 100%|██████████| 28/28 [00:03<00:00,  7.31it/s]\n"
     ]
    },
    {
     "name": "stdout",
     "output_type": "stream",
     "text": [
      "Epoch 12 - Accuracy: 0.9346\n"
     ]
    },
    {
     "name": "stderr",
     "output_type": "stream",
     "text": [
      "Epoch 13: 100%|██████████| 2105/2105 [13:36<00:00,  2.58it/s, loss=0.0808]  \n",
      "Evaluation: 100%|██████████| 28/28 [00:03<00:00,  7.33it/s]\n"
     ]
    },
    {
     "name": "stdout",
     "output_type": "stream",
     "text": [
      "Epoch 13 - Accuracy: 0.9369\n"
     ]
    },
    {
     "name": "stderr",
     "output_type": "stream",
     "text": [
      "Epoch 14: 100%|██████████| 2105/2105 [13:36<00:00,  2.58it/s, loss=0.0508]  \n",
      "Evaluation: 100%|██████████| 28/28 [00:03<00:00,  7.33it/s]\n"
     ]
    },
    {
     "name": "stdout",
     "output_type": "stream",
     "text": [
      "Epoch 14 - Accuracy: 0.9346\n",
      "Early stopping triggered\n",
      "acc_no_amp 0.9392201834862385 train_time_no_amp 817.3280962194715 inf_time_no_amp 3.7382428646087646 memory_usage_no_amp 22387.24462890625\n",
      "Pruning amount: 0.7\n"
     ]
    },
    {
     "name": "stderr",
     "output_type": "stream",
     "text": [
      "Some weights of RobertaForSequenceClassification were not initialized from the model checkpoint at roberta-base and are newly initialized: ['classifier.dense.bias', 'classifier.dense.weight', 'classifier.out_proj.bias', 'classifier.out_proj.weight']\n",
      "You should probably TRAIN this model on a down-stream task to be able to use it for predictions and inference.\n",
      "/tmp/ipykernel_3889/516288128.py:47: FutureWarning: You are using `torch.load` with `weights_only=False` (the current default value), which uses the default pickle module implicitly. It is possible to construct malicious pickle data which will execute arbitrary code during unpickling (See https://github.com/pytorch/pytorch/blob/main/SECURITY.md#untrusted-models for more details). In a future release, the default value for `weights_only` will be flipped to `True`. This limits the functions that could be executed during unpickling. Arbitrary objects will no longer be allowed to be loaded via this mode unless they are explicitly allowlisted by the user via `torch.serialization.add_safe_globals`. We recommend you start setting `weights_only=True` for any use case where you don't have full control of the loaded file. Please open an issue on GitHub for any issues related to this experimental feature.\n",
      "  model.load_state_dict(torch.load(\"dense_model_no_amp.pth\"))  # 저장된 모델 로드\n"
     ]
    },
    {
     "name": "stdout",
     "output_type": "stream",
     "text": [
      "Fine-tuning pruned model with 70.0% sparsity without AMP\n"
     ]
    },
    {
     "name": "stderr",
     "output_type": "stream",
     "text": [
      "Epoch 1: 100%|██████████| 2105/2105 [13:38<00:00,  2.57it/s, loss=0.32]  \n",
      "Evaluation: 100%|██████████| 28/28 [00:03<00:00,  7.31it/s]\n"
     ]
    },
    {
     "name": "stdout",
     "output_type": "stream",
     "text": [
      "Epoch 1 - Accuracy: 0.8303\n"
     ]
    },
    {
     "name": "stderr",
     "output_type": "stream",
     "text": [
      "Epoch 2: 100%|██████████| 2105/2105 [13:38<00:00,  2.57it/s, loss=0.236] \n",
      "Evaluation: 100%|██████████| 28/28 [00:03<00:00,  7.30it/s]\n"
     ]
    },
    {
     "name": "stdout",
     "output_type": "stream",
     "text": [
      "Epoch 2 - Accuracy: 0.8589\n"
     ]
    },
    {
     "name": "stderr",
     "output_type": "stream",
     "text": [
      "Epoch 3: 100%|██████████| 2105/2105 [13:38<00:00,  2.57it/s, loss=0.0388]\n",
      "Evaluation: 100%|██████████| 28/28 [00:03<00:00,  7.35it/s]\n"
     ]
    },
    {
     "name": "stdout",
     "output_type": "stream",
     "text": [
      "Epoch 3 - Accuracy: 0.8647\n"
     ]
    },
    {
     "name": "stderr",
     "output_type": "stream",
     "text": [
      "Epoch 4: 100%|██████████| 2105/2105 [13:38<00:00,  2.57it/s, loss=0.213] \n",
      "Evaluation: 100%|██████████| 28/28 [00:03<00:00,  7.33it/s]\n"
     ]
    },
    {
     "name": "stdout",
     "output_type": "stream",
     "text": [
      "Epoch 4 - Accuracy: 0.8761\n"
     ]
    },
    {
     "name": "stderr",
     "output_type": "stream",
     "text": [
      "Epoch 5: 100%|██████████| 2105/2105 [13:37<00:00,  2.57it/s, loss=0.259] \n",
      "Evaluation: 100%|██████████| 28/28 [00:03<00:00,  7.34it/s]\n"
     ]
    },
    {
     "name": "stdout",
     "output_type": "stream",
     "text": [
      "Epoch 5 - Accuracy: 0.8784\n"
     ]
    },
    {
     "name": "stderr",
     "output_type": "stream",
     "text": [
      "Epoch 6: 100%|██████████| 2105/2105 [13:38<00:00,  2.57it/s, loss=0.0287]\n",
      "Evaluation: 100%|██████████| 28/28 [00:03<00:00,  7.28it/s]\n"
     ]
    },
    {
     "name": "stdout",
     "output_type": "stream",
     "text": [
      "Epoch 6 - Accuracy: 0.8819\n"
     ]
    },
    {
     "name": "stderr",
     "output_type": "stream",
     "text": [
      "Epoch 7: 100%|██████████| 2105/2105 [13:38<00:00,  2.57it/s, loss=0.0637] \n",
      "Evaluation: 100%|██████████| 28/28 [00:03<00:00,  7.31it/s]\n"
     ]
    },
    {
     "name": "stdout",
     "output_type": "stream",
     "text": [
      "Epoch 7 - Accuracy: 0.8888\n"
     ]
    },
    {
     "name": "stderr",
     "output_type": "stream",
     "text": [
      "Epoch 8: 100%|██████████| 2105/2105 [13:37<00:00,  2.58it/s, loss=0.0236] \n",
      "Evaluation: 100%|██████████| 28/28 [00:03<00:00,  7.34it/s]\n"
     ]
    },
    {
     "name": "stdout",
     "output_type": "stream",
     "text": [
      "Epoch 8 - Accuracy: 0.8796\n"
     ]
    },
    {
     "name": "stderr",
     "output_type": "stream",
     "text": [
      "Epoch 9: 100%|██████████| 2105/2105 [13:37<00:00,  2.58it/s, loss=0.159]  \n",
      "Evaluation: 100%|██████████| 28/28 [00:03<00:00,  7.34it/s]\n"
     ]
    },
    {
     "name": "stdout",
     "output_type": "stream",
     "text": [
      "Epoch 9 - Accuracy: 0.8888\n"
     ]
    },
    {
     "name": "stderr",
     "output_type": "stream",
     "text": [
      "Epoch 10: 100%|██████████| 2105/2105 [13:38<00:00,  2.57it/s, loss=0.0864] \n",
      "Evaluation: 100%|██████████| 28/28 [00:03<00:00,  7.34it/s]\n"
     ]
    },
    {
     "name": "stdout",
     "output_type": "stream",
     "text": [
      "Epoch 10 - Accuracy: 0.8876\n",
      "Early stopping triggered\n",
      "acc_no_amp 0.8887614678899083 train_time_no_amp 818.122711634636 inf_time_no_amp 3.779481887817383 memory_usage_no_amp 22387.24462890625\n",
      "Pruning amount: 0.8\n"
     ]
    },
    {
     "name": "stderr",
     "output_type": "stream",
     "text": [
      "Some weights of RobertaForSequenceClassification were not initialized from the model checkpoint at roberta-base and are newly initialized: ['classifier.dense.bias', 'classifier.dense.weight', 'classifier.out_proj.bias', 'classifier.out_proj.weight']\n",
      "You should probably TRAIN this model on a down-stream task to be able to use it for predictions and inference.\n",
      "/tmp/ipykernel_3889/516288128.py:47: FutureWarning: You are using `torch.load` with `weights_only=False` (the current default value), which uses the default pickle module implicitly. It is possible to construct malicious pickle data which will execute arbitrary code during unpickling (See https://github.com/pytorch/pytorch/blob/main/SECURITY.md#untrusted-models for more details). In a future release, the default value for `weights_only` will be flipped to `True`. This limits the functions that could be executed during unpickling. Arbitrary objects will no longer be allowed to be loaded via this mode unless they are explicitly allowlisted by the user via `torch.serialization.add_safe_globals`. We recommend you start setting `weights_only=True` for any use case where you don't have full control of the loaded file. Please open an issue on GitHub for any issues related to this experimental feature.\n",
      "  model.load_state_dict(torch.load(\"dense_model_no_amp.pth\"))  # 저장된 모델 로드\n"
     ]
    },
    {
     "name": "stdout",
     "output_type": "stream",
     "text": [
      "Fine-tuning pruned model with 80.0% sparsity without AMP\n"
     ]
    },
    {
     "name": "stderr",
     "output_type": "stream",
     "text": [
      "Epoch 1: 100%|██████████| 2105/2105 [13:45<00:00,  2.55it/s, loss=0.456]\n",
      "Evaluation: 100%|██████████| 28/28 [00:03<00:00,  7.20it/s]\n"
     ]
    },
    {
     "name": "stdout",
     "output_type": "stream",
     "text": [
      "Epoch 1 - Accuracy: 0.8096\n"
     ]
    },
    {
     "name": "stderr",
     "output_type": "stream",
     "text": [
      "Epoch 2: 100%|██████████| 2105/2105 [13:47<00:00,  2.54it/s, loss=0.374] \n",
      "Evaluation: 100%|██████████| 28/28 [00:03<00:00,  7.19it/s]\n"
     ]
    },
    {
     "name": "stdout",
     "output_type": "stream",
     "text": [
      "Epoch 2 - Accuracy: 0.8165\n"
     ]
    },
    {
     "name": "stderr",
     "output_type": "stream",
     "text": [
      "Epoch 3: 100%|██████████| 2105/2105 [13:48<00:00,  2.54it/s, loss=0.437] \n",
      "Evaluation: 100%|██████████| 28/28 [00:03<00:00,  7.23it/s]\n"
     ]
    },
    {
     "name": "stdout",
     "output_type": "stream",
     "text": [
      "Epoch 3 - Accuracy: 0.8314\n"
     ]
    },
    {
     "name": "stderr",
     "output_type": "stream",
     "text": [
      "Epoch 4: 100%|██████████| 2105/2105 [13:49<00:00,  2.54it/s, loss=0.0774]\n",
      "Evaluation: 100%|██████████| 28/28 [00:03<00:00,  7.22it/s]\n"
     ]
    },
    {
     "name": "stdout",
     "output_type": "stream",
     "text": [
      "Epoch 4 - Accuracy: 0.8314\n"
     ]
    },
    {
     "name": "stderr",
     "output_type": "stream",
     "text": [
      "Epoch 5: 100%|██████████| 2105/2105 [13:49<00:00,  2.54it/s, loss=0.0918]\n",
      "Evaluation: 100%|██████████| 28/28 [00:03<00:00,  7.20it/s]\n"
     ]
    },
    {
     "name": "stdout",
     "output_type": "stream",
     "text": [
      "Epoch 5 - Accuracy: 0.8394\n"
     ]
    },
    {
     "name": "stderr",
     "output_type": "stream",
     "text": [
      "Epoch 6: 100%|██████████| 2105/2105 [13:49<00:00,  2.54it/s, loss=0.202] \n",
      "Evaluation: 100%|██████████| 28/28 [00:03<00:00,  7.20it/s]\n"
     ]
    },
    {
     "name": "stdout",
     "output_type": "stream",
     "text": [
      "Epoch 6 - Accuracy: 0.8372\n"
     ]
    },
    {
     "name": "stderr",
     "output_type": "stream",
     "text": [
      "Epoch 7: 100%|██████████| 2105/2105 [13:49<00:00,  2.54it/s, loss=0.112] \n",
      "Evaluation: 100%|██████████| 28/28 [00:03<00:00,  7.21it/s]\n"
     ]
    },
    {
     "name": "stdout",
     "output_type": "stream",
     "text": [
      "Epoch 7 - Accuracy: 0.8360\n"
     ]
    },
    {
     "name": "stderr",
     "output_type": "stream",
     "text": [
      "Epoch 8: 100%|██████████| 2105/2105 [13:50<00:00,  2.54it/s, loss=0.173] \n",
      "Evaluation: 100%|██████████| 28/28 [00:03<00:00,  7.19it/s]\n"
     ]
    },
    {
     "name": "stdout",
     "output_type": "stream",
     "text": [
      "Epoch 8 - Accuracy: 0.8475\n"
     ]
    },
    {
     "name": "stderr",
     "output_type": "stream",
     "text": [
      "Epoch 9: 100%|██████████| 2105/2105 [13:49<00:00,  2.54it/s, loss=0.33]  \n",
      "Evaluation: 100%|██████████| 28/28 [00:03<00:00,  7.21it/s]\n"
     ]
    },
    {
     "name": "stdout",
     "output_type": "stream",
     "text": [
      "Epoch 9 - Accuracy: 0.8463\n"
     ]
    },
    {
     "name": "stderr",
     "output_type": "stream",
     "text": [
      "Epoch 10: 100%|██████████| 2105/2105 [13:49<00:00,  2.54it/s, loss=0.157] \n",
      "Evaluation: 100%|██████████| 28/28 [00:03<00:00,  7.20it/s]\n"
     ]
    },
    {
     "name": "stdout",
     "output_type": "stream",
     "text": [
      "Epoch 10 - Accuracy: 0.8452\n"
     ]
    },
    {
     "name": "stderr",
     "output_type": "stream",
     "text": [
      "Epoch 11: 100%|██████████| 2105/2105 [13:49<00:00,  2.54it/s, loss=0.247] \n",
      "Evaluation: 100%|██████████| 28/28 [00:03<00:00,  7.21it/s]\n"
     ]
    },
    {
     "name": "stdout",
     "output_type": "stream",
     "text": [
      "Epoch 11 - Accuracy: 0.8463\n",
      "Early stopping triggered\n",
      "acc_no_amp 0.8474770642201835 train_time_no_amp 828.8418248566715 inf_time_no_amp 3.799283027648926 memory_usage_no_amp 22387.24462890625\n",
      "Pruning amount: 0.9\n"
     ]
    },
    {
     "name": "stderr",
     "output_type": "stream",
     "text": [
      "Some weights of RobertaForSequenceClassification were not initialized from the model checkpoint at roberta-base and are newly initialized: ['classifier.dense.bias', 'classifier.dense.weight', 'classifier.out_proj.bias', 'classifier.out_proj.weight']\n",
      "You should probably TRAIN this model on a down-stream task to be able to use it for predictions and inference.\n",
      "/tmp/ipykernel_3889/516288128.py:47: FutureWarning: You are using `torch.load` with `weights_only=False` (the current default value), which uses the default pickle module implicitly. It is possible to construct malicious pickle data which will execute arbitrary code during unpickling (See https://github.com/pytorch/pytorch/blob/main/SECURITY.md#untrusted-models for more details). In a future release, the default value for `weights_only` will be flipped to `True`. This limits the functions that could be executed during unpickling. Arbitrary objects will no longer be allowed to be loaded via this mode unless they are explicitly allowlisted by the user via `torch.serialization.add_safe_globals`. We recommend you start setting `weights_only=True` for any use case where you don't have full control of the loaded file. Please open an issue on GitHub for any issues related to this experimental feature.\n",
      "  model.load_state_dict(torch.load(\"dense_model_no_amp.pth\"))  # 저장된 모델 로드\n"
     ]
    },
    {
     "name": "stdout",
     "output_type": "stream",
     "text": [
      "Fine-tuning pruned model with 90.0% sparsity without AMP\n"
     ]
    },
    {
     "name": "stderr",
     "output_type": "stream",
     "text": [
      "Epoch 1: 100%|██████████| 2105/2105 [13:50<00:00,  2.53it/s, loss=0.531]\n",
      "Evaluation: 100%|██████████| 28/28 [00:03<00:00,  7.18it/s]\n"
     ]
    },
    {
     "name": "stdout",
     "output_type": "stream",
     "text": [
      "Epoch 1 - Accuracy: 0.7787\n"
     ]
    },
    {
     "name": "stderr",
     "output_type": "stream",
     "text": [
      "Epoch 2: 100%|██████████| 2105/2105 [13:50<00:00,  2.53it/s, loss=0.334]\n",
      "Evaluation: 100%|██████████| 28/28 [00:03<00:00,  7.17it/s]\n"
     ]
    },
    {
     "name": "stdout",
     "output_type": "stream",
     "text": [
      "Epoch 2 - Accuracy: 0.7856\n"
     ]
    },
    {
     "name": "stderr",
     "output_type": "stream",
     "text": [
      "Epoch 3: 100%|██████████| 2105/2105 [13:50<00:00,  2.53it/s, loss=0.394]\n",
      "Evaluation: 100%|██████████| 28/28 [00:03<00:00,  7.19it/s]\n"
     ]
    },
    {
     "name": "stdout",
     "output_type": "stream",
     "text": [
      "Epoch 3 - Accuracy: 0.7947\n"
     ]
    },
    {
     "name": "stderr",
     "output_type": "stream",
     "text": [
      "Epoch 4: 100%|██████████| 2105/2105 [13:50<00:00,  2.53it/s, loss=0.287] \n",
      "Evaluation: 100%|██████████| 28/28 [00:03<00:00,  7.19it/s]\n"
     ]
    },
    {
     "name": "stdout",
     "output_type": "stream",
     "text": [
      "Epoch 4 - Accuracy: 0.8096\n"
     ]
    },
    {
     "name": "stderr",
     "output_type": "stream",
     "text": [
      "Epoch 5: 100%|██████████| 2105/2105 [13:50<00:00,  2.53it/s, loss=0.406] \n",
      "Evaluation: 100%|██████████| 28/28 [00:03<00:00,  7.18it/s]\n"
     ]
    },
    {
     "name": "stdout",
     "output_type": "stream",
     "text": [
      "Epoch 5 - Accuracy: 0.8108\n"
     ]
    },
    {
     "name": "stderr",
     "output_type": "stream",
     "text": [
      "Epoch 6: 100%|██████████| 2105/2105 [13:50<00:00,  2.53it/s, loss=0.274] \n",
      "Evaluation: 100%|██████████| 28/28 [00:03<00:00,  7.16it/s]\n"
     ]
    },
    {
     "name": "stdout",
     "output_type": "stream",
     "text": [
      "Epoch 6 - Accuracy: 0.8234\n"
     ]
    },
    {
     "name": "stderr",
     "output_type": "stream",
     "text": [
      "Epoch 7: 100%|██████████| 2105/2105 [13:50<00:00,  2.53it/s, loss=0.212] \n",
      "Evaluation: 100%|██████████| 28/28 [00:03<00:00,  7.18it/s]\n"
     ]
    },
    {
     "name": "stdout",
     "output_type": "stream",
     "text": [
      "Epoch 7 - Accuracy: 0.8177\n"
     ]
    },
    {
     "name": "stderr",
     "output_type": "stream",
     "text": [
      "Epoch 8: 100%|██████████| 2105/2105 [13:49<00:00,  2.54it/s, loss=0.232] \n",
      "Evaluation: 100%|██████████| 28/28 [00:03<00:00,  7.18it/s]\n"
     ]
    },
    {
     "name": "stdout",
     "output_type": "stream",
     "text": [
      "Epoch 8 - Accuracy: 0.8154\n"
     ]
    },
    {
     "name": "stderr",
     "output_type": "stream",
     "text": [
      "Epoch 9: 100%|██████████| 2105/2105 [13:49<00:00,  2.54it/s, loss=0.164] \n",
      "Evaluation: 100%|██████████| 28/28 [00:03<00:00,  7.19it/s]\n"
     ]
    },
    {
     "name": "stdout",
     "output_type": "stream",
     "text": [
      "Epoch 9 - Accuracy: 0.8177\n",
      "Early stopping triggered\n",
      "acc_no_amp 0.823394495412844 train_time_no_amp 830.4440114498138 inf_time_no_amp 3.8150155544281006 memory_usage_no_amp 22387.24462890625\n"
     ]
    }
   ],
   "source": [
    "\n",
    "\n",
    "# 결과를 저장할 데이터프레임 생성\n",
    "results_df = pd.DataFrame(columns=[\"Pruning_Amount\", \"AMP_Enabled\", \"Accuracy\", \"Training_Time\", \"Inference_Time\", \"Memory_Usage_MB\"])\n",
    "\n",
    "# Dense 모델 학습 (AMP 적용하지 않은 경우)\n",
    "model = RobertaForSequenceClassification.from_pretrained('roberta-base', num_labels=2)\n",
    "model.to(device)\n",
    "print(\"Training dense model without AMP\")\n",
    "acc_dense_no_amp, train_time_dense_no_amp, inf_time_dense_no_amp, memory_usage_dense_no_amp = train_and_evaluate(\n",
    "    model, train_dataloader, eval_dataloader, amp_enabled=False, num_epochs=20)\n",
    "print('acc_dense_no_amp', acc_dense_no_amp, 'train_time_dense_no_amp', train_time_dense_no_amp, 'inf_time_dense_no_amp', inf_time_dense_no_amp, 'memory_usage_dense_no_amp', memory_usage_dense_no_amp)\n",
    "new_row = pd.DataFrame([{\n",
    "        \"Pruning_Amount\": 'Dense', \n",
    "        \"AMP_Enabled\": False, \n",
    "        \"Accuracy\": acc_dense_no_amp, \n",
    "        \"Training_Time\": train_time_dense_no_amp, \n",
    "        \"Inference_Time\": inf_time_dense_no_amp, \n",
    "        \"Memory_Usage_MB\": memory_usage_dense_no_amp\n",
    "    }])\n",
    "results_df = pd.concat([results_df, new_row], ignore_index=True)\n",
    "torch.save(model.state_dict(), \"dense_model_no_amp.pth\")\n",
    "\n",
    "# Dense 모델 학습 (AMP 적용한 경우)\n",
    "model = RobertaForSequenceClassification.from_pretrained('roberta-base', num_labels=2)\n",
    "model.to(device)\n",
    "print(\"Training dense model with AMP\")\n",
    "acc_dense_with_amp, train_time_dense_with_amp, inf_time_dense_with_amp, memory_usage_dense_with_amp = train_and_evaluate(\n",
    "    model, train_dataloader, eval_dataloader, amp_enabled=True, num_epochs=20)\n",
    "print('acc_dense_with_amp', acc_dense_with_amp, 'train_time_dense_with_amp', train_time_dense_with_amp, 'inf_time_dense_with_amp', inf_time_dense_with_amp, 'memory_usage_dense_with_amp', memory_usage_dense_with_amp)\n",
    "new_row2 = pd.DataFrame([{\n",
    "        \"Pruning_Amount\": 'Dense', \n",
    "        \"AMP_Enabled\": False, \n",
    "        \"Accuracy\": acc_dense_with_amp, \n",
    "        \"Training_Time\": train_time_dense_with_amp, \n",
    "        \"Inference_Time\": inf_time_dense_with_amp, \n",
    "        \"Memory_Usage_MB\": memory_usage_dense_with_amp\n",
    "    }])\n",
    "results_df = pd.concat([results_df, new_row2], ignore_index=True)\n",
    "\n",
    "# 프루닝 및 재학습\n",
    "prune_amounts = [0.5, 0.6, 0.7, 0.8, 0.9]\n",
    "\n",
    "for amount in prune_amounts:\n",
    "    print(f\"Pruning amount: {amount}\")\n",
    "    \n",
    "    # Dense 상태에서 학습된 모델 로드 (AMP 적용하지 않은 모델 사용)\n",
    "    model = RobertaForSequenceClassification.from_pretrained('roberta-base', num_labels=2)\n",
    "    model.load_state_dict(torch.load(\"dense_model_no_amp.pth\"))  # 저장된 모델 로드\n",
    "    model.to(device)\n",
    "\n",
    "    # 프루닝 및 가중치 저장\n",
    "    prune_model(model, amount)\n",
    "    save_pruned_weights_in_coo_format(model, prune_amount=amount)\n",
    "    \n",
    "    # 프루닝 후 재학습 (AMP 적용하지 않은 경우)\n",
    "    print(f\"Fine-tuning pruned model with {amount*100}% sparsity without AMP\")\n",
    "    torch.cuda.reset_peak_memory_stats()\n",
    "    acc_no_amp, train_time_no_amp, inf_time_no_amp, memory_usage_no_amp = train_and_evaluate(\n",
    "        model, train_dataloader, eval_dataloader, amp_enabled=False, num_epochs=20)\n",
    "    print('acc_no_amp', acc_no_amp, 'train_time_no_amp', train_time_no_amp, 'inf_time_no_amp', inf_time_no_amp, 'memory_usage_no_amp', memory_usage_no_amp)\n",
    "    new_row3 = pd.DataFrame([{\n",
    "        \"Pruning_Amount\": amount, \n",
    "        \"AMP_Enabled\": False, \n",
    "        \"Accuracy\": acc_no_amp, \n",
    "        \"Training_Time\": train_time_no_amp, \n",
    "        \"Inference_Time\": inf_time_no_amp, \n",
    "        \"Memory_Usage_MB\": memory_usage_no_amp\n",
    "    }])\n",
    "    results_df = pd.concat([results_df, new_row3], ignore_index=True)\n",
    "\n",
    "    # 프루닝 후 재학습 (AMP 적용한 경우)\n",
    "    #print(f\"Fine-tuning pruned model with {amount*100}% sparsity with AMP\")\n",
    "    #model.load_state_dict(torch.load(\"dense_model_no_amp.pth\"))  # Dense 상태로 다시 로드\n",
    "    #torch.cuda.reset_peak_memory_stats()\n",
    "    #acc_with_amp, train_time_with_amp, inf_time_with_amp, memory_usage_with_amp = train_and_evaluate(\n",
    "    #    model, train_dataloader, eval_dataloader, amp_enabled=True, num_epochs=20)\n",
    "    #print('acc_with_amp', acc_with_amp, 'train_time_with_amp', train_time_with_amp, 'inf_time_with_amp', inf_time_with_amp, 'memory_usage_with_amp', memory_usage_with_amp)\n",
    "    #results_df = results_df.append({\n",
    "    #    \"Pruning_Amount\": amount, \n",
    "    #    \"AMP_Enabled\": True, \n",
    "    #    \"Accuracy\": acc_with_amp, \n",
    "    #    \"Training_Time\": train_time_with_amp, \n",
    "    #    \"Inference_Time\": inf_time_with_amp, \n",
    "    #    \"Memory_Usage_MB\": memory_usage_with_amp\n",
    "    #}, ignore_index=True)\n",
    "#json 파일로 저장\n",
    "results_df.to_json(\"pruning_amp_results.json\", orient=\"records\", lines=True)\n",
    "# 결과를 CSV 파일로 저장\n",
    "csv_filename = \"pruning_amp_results_real_real_final.csv\"\n",
    "results_df.to_csv(csv_filename, index=False)\n"
   ]
  },
  {
   "cell_type": "code",
   "execution_count": 18,
   "metadata": {},
   "outputs": [
    {
     "name": "stdout",
     "output_type": "stream",
     "text": [
      "Pruning amount: 0.93\n"
     ]
    },
    {
     "name": "stderr",
     "output_type": "stream",
     "text": [
      "Some weights of RobertaForSequenceClassification were not initialized from the model checkpoint at roberta-base and are newly initialized: ['classifier.dense.bias', 'classifier.dense.weight', 'classifier.out_proj.bias', 'classifier.out_proj.weight']\n",
      "You should probably TRAIN this model on a down-stream task to be able to use it for predictions and inference.\n",
      "/tmp/ipykernel_3889/4233497845.py:11: FutureWarning: You are using `torch.load` with `weights_only=False` (the current default value), which uses the default pickle module implicitly. It is possible to construct malicious pickle data which will execute arbitrary code during unpickling (See https://github.com/pytorch/pytorch/blob/main/SECURITY.md#untrusted-models for more details). In a future release, the default value for `weights_only` will be flipped to `True`. This limits the functions that could be executed during unpickling. Arbitrary objects will no longer be allowed to be loaded via this mode unless they are explicitly allowlisted by the user via `torch.serialization.add_safe_globals`. We recommend you start setting `weights_only=True` for any use case where you don't have full control of the loaded file. Please open an issue on GitHub for any issues related to this experimental feature.\n",
      "  model.load_state_dict(torch.load(\"dense_model_no_amp.pth\"))  # 저장된 모델 로드\n"
     ]
    },
    {
     "name": "stdout",
     "output_type": "stream",
     "text": [
      "Fine-tuning pruned model with 93.0% sparsity without AMP\n"
     ]
    },
    {
     "name": "stderr",
     "output_type": "stream",
     "text": [
      "Epoch 1: 100%|██████████| 2105/2105 [13:50<00:00,  2.53it/s, loss=0.676]\n",
      "Evaluation: 100%|██████████| 28/28 [00:03<00:00,  7.17it/s]\n"
     ]
    },
    {
     "name": "stdout",
     "output_type": "stream",
     "text": [
      "Epoch 1 - Accuracy: 0.6502\n"
     ]
    },
    {
     "name": "stderr",
     "output_type": "stream",
     "text": [
      "Epoch 2: 100%|██████████| 2105/2105 [13:50<00:00,  2.53it/s, loss=0.512]\n",
      "Evaluation: 100%|██████████| 28/28 [00:03<00:00,  7.19it/s]\n"
     ]
    },
    {
     "name": "stdout",
     "output_type": "stream",
     "text": [
      "Epoch 2 - Accuracy: 0.8016\n"
     ]
    },
    {
     "name": "stderr",
     "output_type": "stream",
     "text": [
      "Epoch 3: 100%|██████████| 2105/2105 [13:50<00:00,  2.54it/s, loss=0.253]\n",
      "Evaluation: 100%|██████████| 28/28 [00:03<00:00,  7.18it/s]\n"
     ]
    },
    {
     "name": "stdout",
     "output_type": "stream",
     "text": [
      "Epoch 3 - Accuracy: 0.8131\n"
     ]
    },
    {
     "name": "stderr",
     "output_type": "stream",
     "text": [
      "Epoch 4: 100%|██████████| 2105/2105 [13:50<00:00,  2.54it/s, loss=0.221]\n",
      "Evaluation: 100%|██████████| 28/28 [00:03<00:00,  7.18it/s]\n"
     ]
    },
    {
     "name": "stdout",
     "output_type": "stream",
     "text": [
      "Epoch 4 - Accuracy: 0.8234\n"
     ]
    },
    {
     "name": "stderr",
     "output_type": "stream",
     "text": [
      "Epoch 5: 100%|██████████| 2105/2105 [13:49<00:00,  2.54it/s, loss=0.298]\n",
      "Evaluation: 100%|██████████| 28/28 [00:03<00:00,  7.18it/s]\n"
     ]
    },
    {
     "name": "stdout",
     "output_type": "stream",
     "text": [
      "Epoch 5 - Accuracy: 0.8177\n"
     ]
    },
    {
     "name": "stderr",
     "output_type": "stream",
     "text": [
      "Epoch 6: 100%|██████████| 2105/2105 [13:50<00:00,  2.53it/s, loss=0.341] \n",
      "Evaluation: 100%|██████████| 28/28 [00:03<00:00,  7.17it/s]\n"
     ]
    },
    {
     "name": "stdout",
     "output_type": "stream",
     "text": [
      "Epoch 6 - Accuracy: 0.8245\n"
     ]
    },
    {
     "name": "stderr",
     "output_type": "stream",
     "text": [
      "Epoch 7: 100%|██████████| 2105/2105 [13:50<00:00,  2.54it/s, loss=0.237] \n",
      "Evaluation: 100%|██████████| 28/28 [00:03<00:00,  7.17it/s]\n"
     ]
    },
    {
     "name": "stdout",
     "output_type": "stream",
     "text": [
      "Epoch 7 - Accuracy: 0.8211\n"
     ]
    },
    {
     "name": "stderr",
     "output_type": "stream",
     "text": [
      "Epoch 8: 100%|██████████| 2105/2105 [13:50<00:00,  2.54it/s, loss=0.28]  \n",
      "Evaluation: 100%|██████████| 28/28 [00:03<00:00,  7.20it/s]\n"
     ]
    },
    {
     "name": "stdout",
     "output_type": "stream",
     "text": [
      "Epoch 8 - Accuracy: 0.8268\n"
     ]
    },
    {
     "name": "stderr",
     "output_type": "stream",
     "text": [
      "Epoch 9: 100%|██████████| 2105/2105 [13:50<00:00,  2.53it/s, loss=0.303] \n",
      "Evaluation: 100%|██████████| 28/28 [00:03<00:00,  7.18it/s]\n"
     ]
    },
    {
     "name": "stdout",
     "output_type": "stream",
     "text": [
      "Epoch 9 - Accuracy: 0.8200\n"
     ]
    },
    {
     "name": "stderr",
     "output_type": "stream",
     "text": [
      "Epoch 10: 100%|██████████| 2105/2105 [13:50<00:00,  2.53it/s, loss=0.228] \n",
      "Evaluation: 100%|██████████| 28/28 [00:03<00:00,  7.19it/s]\n"
     ]
    },
    {
     "name": "stdout",
     "output_type": "stream",
     "text": [
      "Epoch 10 - Accuracy: 0.8245\n"
     ]
    },
    {
     "name": "stderr",
     "output_type": "stream",
     "text": [
      "Epoch 11: 100%|██████████| 2105/2105 [13:50<00:00,  2.53it/s, loss=0.203] \n",
      "Evaluation: 100%|██████████| 28/28 [00:03<00:00,  7.18it/s]\n"
     ]
    },
    {
     "name": "stdout",
     "output_type": "stream",
     "text": [
      "Epoch 11 - Accuracy: 0.8222\n",
      "Early stopping triggered\n",
      "acc_no_amp 0.8268348623853211 train_time_no_amp 830.4006199619987 inf_time_no_amp 3.8290975093841553 memory_usage_no_amp 22387.24462890625\n",
      "Pruning amount: 0.95\n"
     ]
    },
    {
     "name": "stderr",
     "output_type": "stream",
     "text": [
      "/tmp/ipykernel_3889/4233497845.py:32: FutureWarning: The behavior of DataFrame concatenation with empty or all-NA entries is deprecated. In a future version, this will no longer exclude empty or all-NA columns when determining the result dtypes. To retain the old behavior, exclude the relevant entries before the concat operation.\n",
      "  results_df2 = pd.concat([results_df2, new_row4], ignore_index=True)\n",
      "Some weights of RobertaForSequenceClassification were not initialized from the model checkpoint at roberta-base and are newly initialized: ['classifier.dense.bias', 'classifier.dense.weight', 'classifier.out_proj.bias', 'classifier.out_proj.weight']\n",
      "You should probably TRAIN this model on a down-stream task to be able to use it for predictions and inference.\n",
      "/tmp/ipykernel_3889/4233497845.py:11: FutureWarning: You are using `torch.load` with `weights_only=False` (the current default value), which uses the default pickle module implicitly. It is possible to construct malicious pickle data which will execute arbitrary code during unpickling (See https://github.com/pytorch/pytorch/blob/main/SECURITY.md#untrusted-models for more details). In a future release, the default value for `weights_only` will be flipped to `True`. This limits the functions that could be executed during unpickling. Arbitrary objects will no longer be allowed to be loaded via this mode unless they are explicitly allowlisted by the user via `torch.serialization.add_safe_globals`. We recommend you start setting `weights_only=True` for any use case where you don't have full control of the loaded file. Please open an issue on GitHub for any issues related to this experimental feature.\n",
      "  model.load_state_dict(torch.load(\"dense_model_no_amp.pth\"))  # 저장된 모델 로드\n"
     ]
    },
    {
     "name": "stdout",
     "output_type": "stream",
     "text": [
      "Fine-tuning pruned model with 95.0% sparsity without AMP\n"
     ]
    },
    {
     "name": "stderr",
     "output_type": "stream",
     "text": [
      "Epoch 1: 100%|██████████| 2105/2105 [13:50<00:00,  2.53it/s, loss=0.662]\n",
      "Evaluation: 100%|██████████| 28/28 [00:03<00:00,  7.19it/s]\n"
     ]
    },
    {
     "name": "stdout",
     "output_type": "stream",
     "text": [
      "Epoch 1 - Accuracy: 0.5092\n"
     ]
    },
    {
     "name": "stderr",
     "output_type": "stream",
     "text": [
      "Epoch 2: 100%|██████████| 2105/2105 [13:50<00:00,  2.53it/s, loss=0.626]\n",
      "Evaluation: 100%|██████████| 28/28 [00:03<00:00,  7.19it/s]\n"
     ]
    },
    {
     "name": "stdout",
     "output_type": "stream",
     "text": [
      "Epoch 2 - Accuracy: 0.7294\n"
     ]
    },
    {
     "name": "stderr",
     "output_type": "stream",
     "text": [
      "Epoch 3: 100%|██████████| 2105/2105 [13:50<00:00,  2.53it/s, loss=0.397]\n",
      "Evaluation: 100%|██████████| 28/28 [00:03<00:00,  7.18it/s]\n"
     ]
    },
    {
     "name": "stdout",
     "output_type": "stream",
     "text": [
      "Epoch 3 - Accuracy: 0.7982\n"
     ]
    },
    {
     "name": "stderr",
     "output_type": "stream",
     "text": [
      "Epoch 4: 100%|██████████| 2105/2105 [13:50<00:00,  2.53it/s, loss=0.458]\n",
      "Evaluation: 100%|██████████| 28/28 [00:03<00:00,  7.18it/s]\n"
     ]
    },
    {
     "name": "stdout",
     "output_type": "stream",
     "text": [
      "Epoch 4 - Accuracy: 0.8085\n"
     ]
    },
    {
     "name": "stderr",
     "output_type": "stream",
     "text": [
      "Epoch 5: 100%|██████████| 2105/2105 [13:51<00:00,  2.53it/s, loss=0.138] \n",
      "Evaluation: 100%|██████████| 28/28 [00:03<00:00,  7.17it/s]\n"
     ]
    },
    {
     "name": "stdout",
     "output_type": "stream",
     "text": [
      "Epoch 5 - Accuracy: 0.8234\n"
     ]
    },
    {
     "name": "stderr",
     "output_type": "stream",
     "text": [
      "Epoch 6: 100%|██████████| 2105/2105 [13:51<00:00,  2.53it/s, loss=0.341]\n",
      "Evaluation: 100%|██████████| 28/28 [00:03<00:00,  7.18it/s]\n"
     ]
    },
    {
     "name": "stdout",
     "output_type": "stream",
     "text": [
      "Epoch 6 - Accuracy: 0.8303\n"
     ]
    },
    {
     "name": "stderr",
     "output_type": "stream",
     "text": [
      "Epoch 7: 100%|██████████| 2105/2105 [13:51<00:00,  2.53it/s, loss=0.169] \n",
      "Evaluation: 100%|██████████| 28/28 [00:03<00:00,  7.17it/s]\n"
     ]
    },
    {
     "name": "stdout",
     "output_type": "stream",
     "text": [
      "Epoch 7 - Accuracy: 0.8268\n"
     ]
    },
    {
     "name": "stderr",
     "output_type": "stream",
     "text": [
      "Epoch 8: 100%|██████████| 2105/2105 [13:51<00:00,  2.53it/s, loss=0.107] \n",
      "Evaluation: 100%|██████████| 28/28 [00:03<00:00,  7.17it/s]\n"
     ]
    },
    {
     "name": "stdout",
     "output_type": "stream",
     "text": [
      "Epoch 8 - Accuracy: 0.8234\n"
     ]
    },
    {
     "name": "stderr",
     "output_type": "stream",
     "text": [
      "Epoch 9: 100%|██████████| 2105/2105 [13:50<00:00,  2.53it/s, loss=0.281] \n",
      "Evaluation: 100%|██████████| 28/28 [00:03<00:00,  7.19it/s]\n"
     ]
    },
    {
     "name": "stdout",
     "output_type": "stream",
     "text": [
      "Epoch 9 - Accuracy: 0.8268\n",
      "Early stopping triggered\n",
      "acc_no_amp 0.8302752293577982 train_time_no_amp 830.9693009323544 inf_time_no_amp 3.8271636962890625 memory_usage_no_amp 22387.24462890625\n",
      "Pruning amount: 0.97\n"
     ]
    },
    {
     "name": "stderr",
     "output_type": "stream",
     "text": [
      "Some weights of RobertaForSequenceClassification were not initialized from the model checkpoint at roberta-base and are newly initialized: ['classifier.dense.bias', 'classifier.dense.weight', 'classifier.out_proj.bias', 'classifier.out_proj.weight']\n",
      "You should probably TRAIN this model on a down-stream task to be able to use it for predictions and inference.\n",
      "/tmp/ipykernel_3889/4233497845.py:11: FutureWarning: You are using `torch.load` with `weights_only=False` (the current default value), which uses the default pickle module implicitly. It is possible to construct malicious pickle data which will execute arbitrary code during unpickling (See https://github.com/pytorch/pytorch/blob/main/SECURITY.md#untrusted-models for more details). In a future release, the default value for `weights_only` will be flipped to `True`. This limits the functions that could be executed during unpickling. Arbitrary objects will no longer be allowed to be loaded via this mode unless they are explicitly allowlisted by the user via `torch.serialization.add_safe_globals`. We recommend you start setting `weights_only=True` for any use case where you don't have full control of the loaded file. Please open an issue on GitHub for any issues related to this experimental feature.\n",
      "  model.load_state_dict(torch.load(\"dense_model_no_amp.pth\"))  # 저장된 모델 로드\n"
     ]
    },
    {
     "name": "stdout",
     "output_type": "stream",
     "text": [
      "Fine-tuning pruned model with 97.0% sparsity without AMP\n"
     ]
    },
    {
     "name": "stderr",
     "output_type": "stream",
     "text": [
      "Epoch 1: 100%|██████████| 2105/2105 [13:51<00:00,  2.53it/s, loss=0.698]\n",
      "Evaluation: 100%|██████████| 28/28 [00:03<00:00,  7.18it/s]\n"
     ]
    },
    {
     "name": "stdout",
     "output_type": "stream",
     "text": [
      "Epoch 1 - Accuracy: 0.5092\n"
     ]
    },
    {
     "name": "stderr",
     "output_type": "stream",
     "text": [
      "Epoch 2: 100%|██████████| 2105/2105 [13:51<00:00,  2.53it/s, loss=0.66] \n",
      "Evaluation: 100%|██████████| 28/28 [00:03<00:00,  7.17it/s]\n"
     ]
    },
    {
     "name": "stdout",
     "output_type": "stream",
     "text": [
      "Epoch 2 - Accuracy: 0.5092\n"
     ]
    },
    {
     "name": "stderr",
     "output_type": "stream",
     "text": [
      "Epoch 3: 100%|██████████| 2105/2105 [13:52<00:00,  2.53it/s, loss=0.543]\n",
      "Evaluation: 100%|██████████| 28/28 [00:03<00:00,  7.17it/s]\n"
     ]
    },
    {
     "name": "stdout",
     "output_type": "stream",
     "text": [
      "Epoch 3 - Accuracy: 0.7213\n"
     ]
    },
    {
     "name": "stderr",
     "output_type": "stream",
     "text": [
      "Epoch 4: 100%|██████████| 2105/2105 [13:52<00:00,  2.53it/s, loss=0.48] \n",
      "Evaluation: 100%|██████████| 28/28 [00:03<00:00,  7.17it/s]\n"
     ]
    },
    {
     "name": "stdout",
     "output_type": "stream",
     "text": [
      "Epoch 4 - Accuracy: 0.7741\n"
     ]
    },
    {
     "name": "stderr",
     "output_type": "stream",
     "text": [
      "Epoch 5: 100%|██████████| 2105/2105 [13:51<00:00,  2.53it/s, loss=0.35] \n",
      "Evaluation: 100%|██████████| 28/28 [00:03<00:00,  7.17it/s]\n"
     ]
    },
    {
     "name": "stdout",
     "output_type": "stream",
     "text": [
      "Epoch 5 - Accuracy: 0.8108\n"
     ]
    },
    {
     "name": "stderr",
     "output_type": "stream",
     "text": [
      "Epoch 6: 100%|██████████| 2105/2105 [13:51<00:00,  2.53it/s, loss=0.308]\n",
      "Evaluation: 100%|██████████| 28/28 [00:03<00:00,  7.17it/s]\n"
     ]
    },
    {
     "name": "stdout",
     "output_type": "stream",
     "text": [
      "Epoch 6 - Accuracy: 0.8222\n"
     ]
    },
    {
     "name": "stderr",
     "output_type": "stream",
     "text": [
      "Epoch 7: 100%|██████████| 2105/2105 [13:52<00:00,  2.53it/s, loss=0.301]\n",
      "Evaluation: 100%|██████████| 28/28 [00:03<00:00,  7.16it/s]\n"
     ]
    },
    {
     "name": "stdout",
     "output_type": "stream",
     "text": [
      "Epoch 7 - Accuracy: 0.8073\n"
     ]
    },
    {
     "name": "stderr",
     "output_type": "stream",
     "text": [
      "Epoch 8: 100%|██████████| 2105/2105 [13:51<00:00,  2.53it/s, loss=0.357] \n",
      "Evaluation: 100%|██████████| 28/28 [00:03<00:00,  7.17it/s]\n"
     ]
    },
    {
     "name": "stdout",
     "output_type": "stream",
     "text": [
      "Epoch 8 - Accuracy: 0.8234\n"
     ]
    },
    {
     "name": "stderr",
     "output_type": "stream",
     "text": [
      "Epoch 9: 100%|██████████| 2105/2105 [13:51<00:00,  2.53it/s, loss=0.487] \n",
      "Evaluation: 100%|██████████| 28/28 [00:03<00:00,  7.19it/s]\n"
     ]
    },
    {
     "name": "stdout",
     "output_type": "stream",
     "text": [
      "Epoch 9 - Accuracy: 0.8268\n"
     ]
    },
    {
     "name": "stderr",
     "output_type": "stream",
     "text": [
      "Epoch 10: 100%|██████████| 2105/2105 [13:51<00:00,  2.53it/s, loss=0.33]  \n",
      "Evaluation: 100%|██████████| 28/28 [00:03<00:00,  7.18it/s]\n"
     ]
    },
    {
     "name": "stdout",
     "output_type": "stream",
     "text": [
      "Epoch 10 - Accuracy: 0.8280\n"
     ]
    },
    {
     "name": "stderr",
     "output_type": "stream",
     "text": [
      "Epoch 11: 100%|██████████| 2105/2105 [13:51<00:00,  2.53it/s, loss=0.244] \n",
      "Evaluation: 100%|██████████| 28/28 [00:03<00:00,  7.17it/s]\n"
     ]
    },
    {
     "name": "stdout",
     "output_type": "stream",
     "text": [
      "Epoch 11 - Accuracy: 0.8372\n"
     ]
    },
    {
     "name": "stderr",
     "output_type": "stream",
     "text": [
      "Epoch 12: 100%|██████████| 2105/2105 [13:50<00:00,  2.53it/s, loss=0.279] \n",
      "Evaluation: 100%|██████████| 28/28 [00:03<00:00,  7.19it/s]\n"
     ]
    },
    {
     "name": "stdout",
     "output_type": "stream",
     "text": [
      "Epoch 12 - Accuracy: 0.8349\n"
     ]
    },
    {
     "name": "stderr",
     "output_type": "stream",
     "text": [
      "Epoch 13: 100%|██████████| 2105/2105 [13:50<00:00,  2.53it/s, loss=0.211] \n",
      "Evaluation: 100%|██████████| 28/28 [00:03<00:00,  7.17it/s]\n"
     ]
    },
    {
     "name": "stdout",
     "output_type": "stream",
     "text": [
      "Epoch 13 - Accuracy: 0.8360\n"
     ]
    },
    {
     "name": "stderr",
     "output_type": "stream",
     "text": [
      "Epoch 14: 100%|██████████| 2105/2105 [13:50<00:00,  2.54it/s, loss=0.38]  \n",
      "Evaluation: 100%|██████████| 28/28 [00:03<00:00,  7.16it/s]\n"
     ]
    },
    {
     "name": "stdout",
     "output_type": "stream",
     "text": [
      "Epoch 14 - Accuracy: 0.8303\n",
      "Early stopping triggered\n",
      "acc_no_amp 0.8371559633027523 train_time_no_amp 831.5600092581341 inf_time_no_amp 3.832728862762451 memory_usage_no_amp 22387.24462890625\n",
      "Pruning amount: 0.99\n"
     ]
    },
    {
     "name": "stderr",
     "output_type": "stream",
     "text": [
      "Some weights of RobertaForSequenceClassification were not initialized from the model checkpoint at roberta-base and are newly initialized: ['classifier.dense.bias', 'classifier.dense.weight', 'classifier.out_proj.bias', 'classifier.out_proj.weight']\n",
      "You should probably TRAIN this model on a down-stream task to be able to use it for predictions and inference.\n",
      "/tmp/ipykernel_3889/4233497845.py:11: FutureWarning: You are using `torch.load` with `weights_only=False` (the current default value), which uses the default pickle module implicitly. It is possible to construct malicious pickle data which will execute arbitrary code during unpickling (See https://github.com/pytorch/pytorch/blob/main/SECURITY.md#untrusted-models for more details). In a future release, the default value for `weights_only` will be flipped to `True`. This limits the functions that could be executed during unpickling. Arbitrary objects will no longer be allowed to be loaded via this mode unless they are explicitly allowlisted by the user via `torch.serialization.add_safe_globals`. We recommend you start setting `weights_only=True` for any use case where you don't have full control of the loaded file. Please open an issue on GitHub for any issues related to this experimental feature.\n",
      "  model.load_state_dict(torch.load(\"dense_model_no_amp.pth\"))  # 저장된 모델 로드\n"
     ]
    },
    {
     "name": "stdout",
     "output_type": "stream",
     "text": [
      "Fine-tuning pruned model with 99.0% sparsity without AMP\n"
     ]
    },
    {
     "name": "stderr",
     "output_type": "stream",
     "text": [
      "Epoch 1: 100%|██████████| 2105/2105 [13:56<00:00,  2.52it/s, loss=0.683]\n",
      "Evaluation: 100%|██████████| 28/28 [00:03<00:00,  7.15it/s]\n"
     ]
    },
    {
     "name": "stdout",
     "output_type": "stream",
     "text": [
      "Epoch 1 - Accuracy: 0.5092\n"
     ]
    },
    {
     "name": "stderr",
     "output_type": "stream",
     "text": [
      "Epoch 2: 100%|██████████| 2105/2105 [13:57<00:00,  2.51it/s, loss=0.662]\n",
      "Evaluation: 100%|██████████| 28/28 [00:03<00:00,  7.15it/s]\n"
     ]
    },
    {
     "name": "stdout",
     "output_type": "stream",
     "text": [
      "Epoch 2 - Accuracy: 0.5092\n"
     ]
    },
    {
     "name": "stderr",
     "output_type": "stream",
     "text": [
      "Epoch 3: 100%|██████████| 2105/2105 [13:56<00:00,  2.52it/s, loss=0.676]\n",
      "Evaluation: 100%|██████████| 28/28 [00:03<00:00,  7.16it/s]\n"
     ]
    },
    {
     "name": "stdout",
     "output_type": "stream",
     "text": [
      "Epoch 3 - Accuracy: 0.5092\n"
     ]
    },
    {
     "name": "stderr",
     "output_type": "stream",
     "text": [
      "Epoch 4: 100%|██████████| 2105/2105 [13:56<00:00,  2.52it/s, loss=0.644]\n",
      "Evaluation: 100%|██████████| 28/28 [00:03<00:00,  7.16it/s]\n"
     ]
    },
    {
     "name": "stdout",
     "output_type": "stream",
     "text": [
      "Epoch 4 - Accuracy: 0.5092\n"
     ]
    },
    {
     "name": "stderr",
     "output_type": "stream",
     "text": [
      "Epoch 5: 100%|██████████| 2105/2105 [13:56<00:00,  2.52it/s, loss=0.62] \n",
      "Evaluation: 100%|██████████| 28/28 [00:03<00:00,  7.15it/s]\n"
     ]
    },
    {
     "name": "stdout",
     "output_type": "stream",
     "text": [
      "Epoch 5 - Accuracy: 0.5092\n"
     ]
    },
    {
     "name": "stderr",
     "output_type": "stream",
     "text": [
      "Epoch 6: 100%|██████████| 2105/2105 [13:56<00:00,  2.52it/s, loss=0.636]\n",
      "Evaluation: 100%|██████████| 28/28 [00:03<00:00,  7.15it/s]\n"
     ]
    },
    {
     "name": "stdout",
     "output_type": "stream",
     "text": [
      "Epoch 6 - Accuracy: 0.6422\n"
     ]
    },
    {
     "name": "stderr",
     "output_type": "stream",
     "text": [
      "Epoch 7: 100%|██████████| 2105/2105 [13:56<00:00,  2.52it/s, loss=0.58] \n",
      "Evaluation: 100%|██████████| 28/28 [00:03<00:00,  7.18it/s]\n"
     ]
    },
    {
     "name": "stdout",
     "output_type": "stream",
     "text": [
      "Epoch 7 - Accuracy: 0.7718\n"
     ]
    },
    {
     "name": "stderr",
     "output_type": "stream",
     "text": [
      "Epoch 8: 100%|██████████| 2105/2105 [13:55<00:00,  2.52it/s, loss=0.624]\n",
      "Evaluation: 100%|██████████| 28/28 [00:03<00:00,  7.19it/s]\n"
     ]
    },
    {
     "name": "stdout",
     "output_type": "stream",
     "text": [
      "Epoch 8 - Accuracy: 0.7890\n"
     ]
    },
    {
     "name": "stderr",
     "output_type": "stream",
     "text": [
      "Epoch 9: 100%|██████████| 2105/2105 [13:54<00:00,  2.52it/s, loss=0.458]\n",
      "Evaluation: 100%|██████████| 28/28 [00:03<00:00,  7.17it/s]\n"
     ]
    },
    {
     "name": "stdout",
     "output_type": "stream",
     "text": [
      "Epoch 9 - Accuracy: 0.7982\n"
     ]
    },
    {
     "name": "stderr",
     "output_type": "stream",
     "text": [
      "Epoch 10: 100%|██████████| 2105/2105 [13:55<00:00,  2.52it/s, loss=0.301]\n",
      "Evaluation: 100%|██████████| 28/28 [00:03<00:00,  7.15it/s]\n"
     ]
    },
    {
     "name": "stdout",
     "output_type": "stream",
     "text": [
      "Epoch 10 - Accuracy: 0.8050\n"
     ]
    },
    {
     "name": "stderr",
     "output_type": "stream",
     "text": [
      "Epoch 11: 100%|██████████| 2105/2105 [13:54<00:00,  2.52it/s, loss=0.368]\n",
      "Evaluation: 100%|██████████| 28/28 [00:03<00:00,  7.15it/s]\n"
     ]
    },
    {
     "name": "stdout",
     "output_type": "stream",
     "text": [
      "Epoch 11 - Accuracy: 0.8142\n"
     ]
    },
    {
     "name": "stderr",
     "output_type": "stream",
     "text": [
      "Epoch 12: 100%|██████████| 2105/2105 [13:54<00:00,  2.52it/s, loss=0.389]\n",
      "Evaluation: 100%|██████████| 28/28 [00:03<00:00,  7.16it/s]\n"
     ]
    },
    {
     "name": "stdout",
     "output_type": "stream",
     "text": [
      "Epoch 12 - Accuracy: 0.8165\n"
     ]
    },
    {
     "name": "stderr",
     "output_type": "stream",
     "text": [
      "Epoch 13: 100%|██████████| 2105/2105 [13:51<00:00,  2.53it/s, loss=0.278]\n",
      "Evaluation: 100%|██████████| 28/28 [00:03<00:00,  7.17it/s]\n"
     ]
    },
    {
     "name": "stdout",
     "output_type": "stream",
     "text": [
      "Epoch 13 - Accuracy: 0.8222\n"
     ]
    },
    {
     "name": "stderr",
     "output_type": "stream",
     "text": [
      "Epoch 14: 100%|██████████| 2105/2105 [13:51<00:00,  2.53it/s, loss=0.317]\n",
      "Evaluation: 100%|██████████| 28/28 [00:03<00:00,  7.16it/s]\n"
     ]
    },
    {
     "name": "stdout",
     "output_type": "stream",
     "text": [
      "Epoch 14 - Accuracy: 0.8200\n"
     ]
    },
    {
     "name": "stderr",
     "output_type": "stream",
     "text": [
      "Epoch 15: 100%|██████████| 2105/2105 [13:52<00:00,  2.53it/s, loss=0.258]\n",
      "Evaluation: 100%|██████████| 28/28 [00:03<00:00,  7.17it/s]\n"
     ]
    },
    {
     "name": "stdout",
     "output_type": "stream",
     "text": [
      "Epoch 15 - Accuracy: 0.8188\n"
     ]
    },
    {
     "name": "stderr",
     "output_type": "stream",
     "text": [
      "Epoch 16: 100%|██████████| 2105/2105 [13:52<00:00,  2.53it/s, loss=0.262]\n",
      "Evaluation: 100%|██████████| 28/28 [00:03<00:00,  7.18it/s]\n"
     ]
    },
    {
     "name": "stdout",
     "output_type": "stream",
     "text": [
      "Epoch 16 - Accuracy: 0.8200\n",
      "Early stopping triggered\n",
      "acc_no_amp 0.8222477064220184 train_time_no_amp 834.9372519552708 inf_time_no_amp 3.8303678035736084 memory_usage_no_amp 22387.24462890625\n"
     ]
    }
   ],
   "source": [
    "# 결과를 저장할 데이터프레임 생성\n",
    "results_df2 = pd.DataFrame(columns=[\"Pruning_Amount\", \"AMP_Enabled\", \"Accuracy\", \"Training_Time\", \"Inference_Time\", \"Memory_Usage_MB\"])\n",
    "\n",
    "prune_amounts = [0.93, 0.95, 0.97, 0.99]\n",
    "\n",
    "for amount in prune_amounts:\n",
    "    print(f\"Pruning amount: {amount}\")\n",
    "    \n",
    "    # Dense 상태에서 학습된 모델 로드 (AMP 적용하지 않은 모델 사용)\n",
    "    model = RobertaForSequenceClassification.from_pretrained('roberta-base', num_labels=2)\n",
    "    model.load_state_dict(torch.load(\"dense_model_no_amp.pth\"))  # 저장된 모델 로드\n",
    "    model.to(device)\n",
    "\n",
    "    # 프루닝 및 가중치 저장\n",
    "    prune_model(model, amount)\n",
    "    save_pruned_weights_in_coo_format(model, prune_amount=amount)\n",
    "    \n",
    "    # 프루닝 후 재학습 (AMP 적용하지 않은 경우)\n",
    "    print(f\"Fine-tuning pruned model with {amount*100}% sparsity without AMP\")\n",
    "    torch.cuda.reset_peak_memory_stats()\n",
    "    acc_no_amp, train_time_no_amp, inf_time_no_amp, memory_usage_no_amp = train_and_evaluate(\n",
    "        model, train_dataloader, eval_dataloader, amp_enabled=False, num_epochs=20)\n",
    "    print('acc_no_amp', acc_no_amp, 'train_time_no_amp', train_time_no_amp, 'inf_time_no_amp', inf_time_no_amp, 'memory_usage_no_amp', memory_usage_no_amp)\n",
    "    new_row4 = pd.DataFrame([{\n",
    "        \"Pruning_Amount\": amount, \n",
    "        \"AMP_Enabled\": False, \n",
    "        \"Accuracy\": acc_no_amp, \n",
    "        \"Training_Time\": train_time_no_amp, \n",
    "        \"Inference_Time\": inf_time_no_amp, \n",
    "        \"Memory_Usage_MB\": memory_usage_no_amp\n",
    "    }])\n",
    "    results_df2 = pd.concat([results_df2, new_row4], ignore_index=True)\n",
    "\n",
    "    # 프루닝 후 재학습 (AMP 적용한 경우)\n",
    "    #print(f\"Fine-tuning pruned model with {amount*100}% sparsity with AMP\")\n",
    "    #model.load_state_dict(torch.load(\"dense_model_no_amp.pth\"))  # Dense 상태로 다시 로드\n",
    "    #torch.cuda.reset_peak_memory_stats()\n",
    "    #acc_with_amp, train_time_with_amp, inf_time_with_amp, memory_usage_with_amp = train_and_evaluate(\n",
    "    #    model, train_dataloader, eval_dataloader, amp_enabled=True, num_epochs=20)\n",
    "    #print('acc_with_amp', acc_with_amp, 'train_time_with_amp', train_time_with_amp, 'inf_time_with_amp', inf_time_with_amp, 'memory_usage_with_amp', memory_usage_with_amp)\n",
    "    #results_df2 = results_df2.append({\n",
    "    #    \"Pruning_Amount\": amount, \n",
    "    #    \"AMP_Enabled\": True, \n",
    "    #    \"Accuracy\": acc_with_amp, \n",
    "    #    \"Training_Time\": train_time_with_amp, \n",
    "    #    \"Inference_Time\": inf_time_with_amp, \n",
    "    #    \"Memory_Usage_MB\": memory_usage_with_amp\n",
    "    #}, ignore_index=True)\n",
    "#json 파일로 저장\n",
    "results_df2.to_json(\"pruning_amp_results2.json\", orient=\"records\", lines=True)\n",
    "# 결과를 CSV 파일로 저장\n",
    "csv_filename = \"pruning_amp_results_real_real_final2.csv\"\n",
    "results_df2.to_csv(csv_filename, index=False)"
   ]
  },
  {
   "cell_type": "code",
   "execution_count": 19,
   "metadata": {},
   "outputs": [
    {
     "name": "stdout",
     "output_type": "stream",
     "text": [
      "Pruning amount: 0.93\n"
     ]
    },
    {
     "name": "stderr",
     "output_type": "stream",
     "text": [
      "Some weights of RobertaForSequenceClassification were not initialized from the model checkpoint at roberta-base and are newly initialized: ['classifier.dense.bias', 'classifier.dense.weight', 'classifier.out_proj.bias', 'classifier.out_proj.weight']\n",
      "You should probably TRAIN this model on a down-stream task to be able to use it for predictions and inference.\n",
      "/tmp/ipykernel_3889/4007737057.py:11: FutureWarning: You are using `torch.load` with `weights_only=False` (the current default value), which uses the default pickle module implicitly. It is possible to construct malicious pickle data which will execute arbitrary code during unpickling (See https://github.com/pytorch/pytorch/blob/main/SECURITY.md#untrusted-models for more details). In a future release, the default value for `weights_only` will be flipped to `True`. This limits the functions that could be executed during unpickling. Arbitrary objects will no longer be allowed to be loaded via this mode unless they are explicitly allowlisted by the user via `torch.serialization.add_safe_globals`. We recommend you start setting `weights_only=True` for any use case where you don't have full control of the loaded file. Please open an issue on GitHub for any issues related to this experimental feature.\n",
      "  model.load_state_dict(torch.load(\"dense_model_no_amp.pth\"))  # 저장된 모델 로드\n"
     ]
    },
    {
     "name": "stdout",
     "output_type": "stream",
     "text": [
      "Fine-tuning pruned model with 93.0% sparsity with AMP\n"
     ]
    },
    {
     "name": "stderr",
     "output_type": "stream",
     "text": [
      "Epoch 1: 100%|██████████| 2105/2105 [08:33<00:00,  4.10it/s, loss=0.639]\n",
      "Evaluation: 100%|██████████| 28/28 [00:01<00:00, 14.04it/s]\n"
     ]
    },
    {
     "name": "stdout",
     "output_type": "stream",
     "text": [
      "Epoch 1 - Accuracy: 0.5092\n"
     ]
    },
    {
     "name": "stderr",
     "output_type": "stream",
     "text": [
      "Epoch 2: 100%|██████████| 2105/2105 [08:33<00:00,  4.10it/s, loss=0.418]\n",
      "Evaluation: 100%|██████████| 28/28 [00:01<00:00, 14.03it/s]\n"
     ]
    },
    {
     "name": "stdout",
     "output_type": "stream",
     "text": [
      "Epoch 2 - Accuracy: 0.7867\n"
     ]
    },
    {
     "name": "stderr",
     "output_type": "stream",
     "text": [
      "Epoch 3: 100%|██████████| 2105/2105 [08:33<00:00,  4.10it/s, loss=0.479]\n",
      "Evaluation: 100%|██████████| 28/28 [00:01<00:00, 14.04it/s]\n"
     ]
    },
    {
     "name": "stdout",
     "output_type": "stream",
     "text": [
      "Epoch 3 - Accuracy: 0.8142\n"
     ]
    },
    {
     "name": "stderr",
     "output_type": "stream",
     "text": [
      "Epoch 4: 100%|██████████| 2105/2105 [08:33<00:00,  4.10it/s, loss=0.28] \n",
      "Evaluation: 100%|██████████| 28/28 [00:01<00:00, 14.03it/s]\n"
     ]
    },
    {
     "name": "stdout",
     "output_type": "stream",
     "text": [
      "Epoch 4 - Accuracy: 0.8131\n"
     ]
    },
    {
     "name": "stderr",
     "output_type": "stream",
     "text": [
      "Epoch 5: 100%|██████████| 2105/2105 [08:33<00:00,  4.10it/s, loss=0.264] \n",
      "Evaluation: 100%|██████████| 28/28 [00:01<00:00, 14.04it/s]\n"
     ]
    },
    {
     "name": "stdout",
     "output_type": "stream",
     "text": [
      "Epoch 5 - Accuracy: 0.8154\n"
     ]
    },
    {
     "name": "stderr",
     "output_type": "stream",
     "text": [
      "Epoch 6: 100%|██████████| 2105/2105 [08:33<00:00,  4.10it/s, loss=0.286] \n",
      "Evaluation: 100%|██████████| 28/28 [00:01<00:00, 14.03it/s]\n"
     ]
    },
    {
     "name": "stdout",
     "output_type": "stream",
     "text": [
      "Epoch 6 - Accuracy: 0.8234\n"
     ]
    },
    {
     "name": "stderr",
     "output_type": "stream",
     "text": [
      "Epoch 7: 100%|██████████| 2105/2105 [08:33<00:00,  4.10it/s, loss=0.178] \n",
      "Evaluation: 100%|██████████| 28/28 [00:01<00:00, 14.02it/s]\n"
     ]
    },
    {
     "name": "stdout",
     "output_type": "stream",
     "text": [
      "Epoch 7 - Accuracy: 0.8303\n"
     ]
    },
    {
     "name": "stderr",
     "output_type": "stream",
     "text": [
      "Epoch 8: 100%|██████████| 2105/2105 [08:33<00:00,  4.10it/s, loss=0.167] \n",
      "Evaluation: 100%|██████████| 28/28 [00:01<00:00, 14.04it/s]\n"
     ]
    },
    {
     "name": "stdout",
     "output_type": "stream",
     "text": [
      "Epoch 8 - Accuracy: 0.8200\n"
     ]
    },
    {
     "name": "stderr",
     "output_type": "stream",
     "text": [
      "Epoch 9: 100%|██████████| 2105/2105 [08:33<00:00,  4.10it/s, loss=0.19]  \n",
      "Evaluation: 100%|██████████| 28/28 [00:01<00:00, 14.04it/s]\n"
     ]
    },
    {
     "name": "stdout",
     "output_type": "stream",
     "text": [
      "Epoch 9 - Accuracy: 0.8234\n"
     ]
    },
    {
     "name": "stderr",
     "output_type": "stream",
     "text": [
      "Epoch 10: 100%|██████████| 2105/2105 [08:34<00:00,  4.10it/s, loss=0.114] \n",
      "Evaluation: 100%|██████████| 28/28 [00:01<00:00, 14.03it/s]\n"
     ]
    },
    {
     "name": "stdout",
     "output_type": "stream",
     "text": [
      "Epoch 10 - Accuracy: 0.8268\n",
      "Early stopping triggered\n",
      "acc_with_amp 0.8302752293577982 train_time_with_amp 513.7644299030304 inf_time_with_amp 1.9498813152313232 memory_usage_with_amp 17093.6611328125\n",
      "Pruning amount: 0.95\n"
     ]
    },
    {
     "name": "stderr",
     "output_type": "stream",
     "text": [
      "/tmp/ipykernel_3889/4007737057.py:34: FutureWarning: The behavior of DataFrame concatenation with empty or all-NA entries is deprecated. In a future version, this will no longer exclude empty or all-NA columns when determining the result dtypes. To retain the old behavior, exclude the relevant entries before the concat operation.\n",
      "  results_df5 = pd.concat([results_df5, new_row5], ignore_index=True)\n",
      "Some weights of RobertaForSequenceClassification were not initialized from the model checkpoint at roberta-base and are newly initialized: ['classifier.dense.bias', 'classifier.dense.weight', 'classifier.out_proj.bias', 'classifier.out_proj.weight']\n",
      "You should probably TRAIN this model on a down-stream task to be able to use it for predictions and inference.\n",
      "/tmp/ipykernel_3889/4007737057.py:11: FutureWarning: You are using `torch.load` with `weights_only=False` (the current default value), which uses the default pickle module implicitly. It is possible to construct malicious pickle data which will execute arbitrary code during unpickling (See https://github.com/pytorch/pytorch/blob/main/SECURITY.md#untrusted-models for more details). In a future release, the default value for `weights_only` will be flipped to `True`. This limits the functions that could be executed during unpickling. Arbitrary objects will no longer be allowed to be loaded via this mode unless they are explicitly allowlisted by the user via `torch.serialization.add_safe_globals`. We recommend you start setting `weights_only=True` for any use case where you don't have full control of the loaded file. Please open an issue on GitHub for any issues related to this experimental feature.\n",
      "  model.load_state_dict(torch.load(\"dense_model_no_amp.pth\"))  # 저장된 모델 로드\n"
     ]
    },
    {
     "name": "stdout",
     "output_type": "stream",
     "text": [
      "Fine-tuning pruned model with 95.0% sparsity with AMP\n"
     ]
    },
    {
     "name": "stderr",
     "output_type": "stream",
     "text": [
      "Epoch 1: 100%|██████████| 2105/2105 [08:33<00:00,  4.10it/s, loss=0.643]\n",
      "Evaluation: 100%|██████████| 28/28 [00:01<00:00, 14.04it/s]\n"
     ]
    },
    {
     "name": "stdout",
     "output_type": "stream",
     "text": [
      "Epoch 1 - Accuracy: 0.5092\n"
     ]
    },
    {
     "name": "stderr",
     "output_type": "stream",
     "text": [
      "Epoch 2: 100%|██████████| 2105/2105 [08:33<00:00,  4.10it/s, loss=0.384]\n",
      "Evaluation: 100%|██████████| 28/28 [00:01<00:00, 14.04it/s]\n"
     ]
    },
    {
     "name": "stdout",
     "output_type": "stream",
     "text": [
      "Epoch 2 - Accuracy: 0.7511\n"
     ]
    },
    {
     "name": "stderr",
     "output_type": "stream",
     "text": [
      "Epoch 3: 100%|██████████| 2105/2105 [08:33<00:00,  4.10it/s, loss=0.417]\n",
      "Evaluation: 100%|██████████| 28/28 [00:01<00:00, 14.06it/s]\n"
     ]
    },
    {
     "name": "stdout",
     "output_type": "stream",
     "text": [
      "Epoch 3 - Accuracy: 0.7924\n"
     ]
    },
    {
     "name": "stderr",
     "output_type": "stream",
     "text": [
      "Epoch 4: 100%|██████████| 2105/2105 [08:33<00:00,  4.10it/s, loss=0.339]\n",
      "Evaluation: 100%|██████████| 28/28 [00:01<00:00, 14.04it/s]\n"
     ]
    },
    {
     "name": "stdout",
     "output_type": "stream",
     "text": [
      "Epoch 4 - Accuracy: 0.8005\n"
     ]
    },
    {
     "name": "stderr",
     "output_type": "stream",
     "text": [
      "Epoch 5: 100%|██████████| 2105/2105 [08:33<00:00,  4.10it/s, loss=0.292]\n",
      "Evaluation: 100%|██████████| 28/28 [00:01<00:00, 14.06it/s]\n"
     ]
    },
    {
     "name": "stdout",
     "output_type": "stream",
     "text": [
      "Epoch 5 - Accuracy: 0.8200\n"
     ]
    },
    {
     "name": "stderr",
     "output_type": "stream",
     "text": [
      "Epoch 6: 100%|██████████| 2105/2105 [08:33<00:00,  4.10it/s, loss=0.301]\n",
      "Evaluation: 100%|██████████| 28/28 [00:01<00:00, 14.05it/s]\n"
     ]
    },
    {
     "name": "stdout",
     "output_type": "stream",
     "text": [
      "Epoch 6 - Accuracy: 0.8291\n"
     ]
    },
    {
     "name": "stderr",
     "output_type": "stream",
     "text": [
      "Epoch 7: 100%|██████████| 2105/2105 [08:33<00:00,  4.10it/s, loss=0.214] \n",
      "Evaluation: 100%|██████████| 28/28 [00:01<00:00, 14.05it/s]\n"
     ]
    },
    {
     "name": "stdout",
     "output_type": "stream",
     "text": [
      "Epoch 7 - Accuracy: 0.8200\n"
     ]
    },
    {
     "name": "stderr",
     "output_type": "stream",
     "text": [
      "Epoch 8: 100%|██████████| 2105/2105 [08:33<00:00,  4.10it/s, loss=0.187] \n",
      "Evaluation: 100%|██████████| 28/28 [00:01<00:00, 14.05it/s]\n"
     ]
    },
    {
     "name": "stdout",
     "output_type": "stream",
     "text": [
      "Epoch 8 - Accuracy: 0.8337\n"
     ]
    },
    {
     "name": "stderr",
     "output_type": "stream",
     "text": [
      "Epoch 9: 100%|██████████| 2105/2105 [08:33<00:00,  4.10it/s, loss=0.153] \n",
      "Evaluation: 100%|██████████| 28/28 [00:01<00:00, 14.01it/s]\n"
     ]
    },
    {
     "name": "stdout",
     "output_type": "stream",
     "text": [
      "Epoch 9 - Accuracy: 0.8360\n"
     ]
    },
    {
     "name": "stderr",
     "output_type": "stream",
     "text": [
      "Epoch 10: 100%|██████████| 2105/2105 [08:33<00:00,  4.10it/s, loss=0.177] \n",
      "Evaluation: 100%|██████████| 28/28 [00:01<00:00, 14.04it/s]\n"
     ]
    },
    {
     "name": "stdout",
     "output_type": "stream",
     "text": [
      "Epoch 10 - Accuracy: 0.8268\n"
     ]
    },
    {
     "name": "stderr",
     "output_type": "stream",
     "text": [
      "Epoch 11: 100%|██████████| 2105/2105 [08:33<00:00,  4.10it/s, loss=0.475] \n",
      "Evaluation: 100%|██████████| 28/28 [00:01<00:00, 14.05it/s]\n"
     ]
    },
    {
     "name": "stdout",
     "output_type": "stream",
     "text": [
      "Epoch 11 - Accuracy: 0.8211\n"
     ]
    },
    {
     "name": "stderr",
     "output_type": "stream",
     "text": [
      "Epoch 12: 100%|██████████| 2105/2105 [08:33<00:00,  4.10it/s, loss=0.297] \n",
      "Evaluation: 100%|██████████| 28/28 [00:01<00:00, 14.05it/s]\n"
     ]
    },
    {
     "name": "stdout",
     "output_type": "stream",
     "text": [
      "Epoch 12 - Accuracy: 0.8314\n",
      "Early stopping triggered\n",
      "acc_with_amp 0.8360091743119266 train_time_with_amp 513.4436986843745 inf_time_with_amp 1.9469234943389893 memory_usage_with_amp 17093.6611328125\n",
      "Pruning amount: 0.97\n"
     ]
    },
    {
     "name": "stderr",
     "output_type": "stream",
     "text": [
      "Some weights of RobertaForSequenceClassification were not initialized from the model checkpoint at roberta-base and are newly initialized: ['classifier.dense.bias', 'classifier.dense.weight', 'classifier.out_proj.bias', 'classifier.out_proj.weight']\n",
      "You should probably TRAIN this model on a down-stream task to be able to use it for predictions and inference.\n",
      "/tmp/ipykernel_3889/4007737057.py:11: FutureWarning: You are using `torch.load` with `weights_only=False` (the current default value), which uses the default pickle module implicitly. It is possible to construct malicious pickle data which will execute arbitrary code during unpickling (See https://github.com/pytorch/pytorch/blob/main/SECURITY.md#untrusted-models for more details). In a future release, the default value for `weights_only` will be flipped to `True`. This limits the functions that could be executed during unpickling. Arbitrary objects will no longer be allowed to be loaded via this mode unless they are explicitly allowlisted by the user via `torch.serialization.add_safe_globals`. We recommend you start setting `weights_only=True` for any use case where you don't have full control of the loaded file. Please open an issue on GitHub for any issues related to this experimental feature.\n",
      "  model.load_state_dict(torch.load(\"dense_model_no_amp.pth\"))  # 저장된 모델 로드\n"
     ]
    },
    {
     "name": "stdout",
     "output_type": "stream",
     "text": [
      "Fine-tuning pruned model with 97.0% sparsity with AMP\n"
     ]
    },
    {
     "name": "stderr",
     "output_type": "stream",
     "text": [
      "Epoch 1: 100%|██████████| 2105/2105 [08:33<00:00,  4.10it/s, loss=0.673]\n",
      "Evaluation: 100%|██████████| 28/28 [00:01<00:00, 14.05it/s]\n"
     ]
    },
    {
     "name": "stdout",
     "output_type": "stream",
     "text": [
      "Epoch 1 - Accuracy: 0.5092\n"
     ]
    },
    {
     "name": "stderr",
     "output_type": "stream",
     "text": [
      "Epoch 2: 100%|██████████| 2105/2105 [08:33<00:00,  4.10it/s, loss=0.651]\n",
      "Evaluation: 100%|██████████| 28/28 [00:01<00:00, 14.02it/s]\n"
     ]
    },
    {
     "name": "stdout",
     "output_type": "stream",
     "text": [
      "Epoch 2 - Accuracy: 0.5092\n"
     ]
    },
    {
     "name": "stderr",
     "output_type": "stream",
     "text": [
      "Epoch 3: 100%|██████████| 2105/2105 [08:33<00:00,  4.10it/s, loss=0.593]\n",
      "Evaluation: 100%|██████████| 28/28 [00:01<00:00, 14.06it/s]\n"
     ]
    },
    {
     "name": "stdout",
     "output_type": "stream",
     "text": [
      "Epoch 3 - Accuracy: 0.7362\n"
     ]
    },
    {
     "name": "stderr",
     "output_type": "stream",
     "text": [
      "Epoch 4: 100%|██████████| 2105/2105 [08:33<00:00,  4.10it/s, loss=0.488]\n",
      "Evaluation: 100%|██████████| 28/28 [00:01<00:00, 14.02it/s]\n"
     ]
    },
    {
     "name": "stdout",
     "output_type": "stream",
     "text": [
      "Epoch 4 - Accuracy: 0.7833\n"
     ]
    },
    {
     "name": "stderr",
     "output_type": "stream",
     "text": [
      "Epoch 5: 100%|██████████| 2105/2105 [08:33<00:00,  4.10it/s, loss=0.489]\n",
      "Evaluation: 100%|██████████| 28/28 [00:01<00:00, 14.06it/s]\n"
     ]
    },
    {
     "name": "stdout",
     "output_type": "stream",
     "text": [
      "Epoch 5 - Accuracy: 0.7844\n"
     ]
    },
    {
     "name": "stderr",
     "output_type": "stream",
     "text": [
      "Epoch 6: 100%|██████████| 2105/2105 [08:33<00:00,  4.10it/s, loss=0.719]\n",
      "Evaluation: 100%|██████████| 28/28 [00:01<00:00, 14.02it/s]\n"
     ]
    },
    {
     "name": "stdout",
     "output_type": "stream",
     "text": [
      "Epoch 6 - Accuracy: 0.7982\n"
     ]
    },
    {
     "name": "stderr",
     "output_type": "stream",
     "text": [
      "Epoch 7: 100%|██████████| 2105/2105 [08:33<00:00,  4.10it/s, loss=0.265]\n",
      "Evaluation: 100%|██████████| 28/28 [00:01<00:00, 14.06it/s]\n"
     ]
    },
    {
     "name": "stdout",
     "output_type": "stream",
     "text": [
      "Epoch 7 - Accuracy: 0.8257\n"
     ]
    },
    {
     "name": "stderr",
     "output_type": "stream",
     "text": [
      "Epoch 8: 100%|██████████| 2105/2105 [08:33<00:00,  4.10it/s, loss=0.553]\n",
      "Evaluation: 100%|██████████| 28/28 [00:01<00:00, 14.06it/s]\n"
     ]
    },
    {
     "name": "stdout",
     "output_type": "stream",
     "text": [
      "Epoch 8 - Accuracy: 0.8314\n"
     ]
    },
    {
     "name": "stderr",
     "output_type": "stream",
     "text": [
      "Epoch 9: 100%|██████████| 2105/2105 [08:33<00:00,  4.10it/s, loss=0.543]\n",
      "Evaluation: 100%|██████████| 28/28 [00:01<00:00, 14.06it/s]\n"
     ]
    },
    {
     "name": "stdout",
     "output_type": "stream",
     "text": [
      "Epoch 9 - Accuracy: 0.8303\n"
     ]
    },
    {
     "name": "stderr",
     "output_type": "stream",
     "text": [
      "Epoch 10: 100%|██████████| 2105/2105 [08:33<00:00,  4.10it/s, loss=0.326] \n",
      "Evaluation: 100%|██████████| 28/28 [00:01<00:00, 14.06it/s]\n"
     ]
    },
    {
     "name": "stdout",
     "output_type": "stream",
     "text": [
      "Epoch 10 - Accuracy: 0.8314\n"
     ]
    },
    {
     "name": "stderr",
     "output_type": "stream",
     "text": [
      "Epoch 11: 100%|██████████| 2105/2105 [08:33<00:00,  4.10it/s, loss=0.353] \n",
      "Evaluation: 100%|██████████| 28/28 [00:01<00:00, 14.06it/s]\n"
     ]
    },
    {
     "name": "stdout",
     "output_type": "stream",
     "text": [
      "Epoch 11 - Accuracy: 0.8406\n"
     ]
    },
    {
     "name": "stderr",
     "output_type": "stream",
     "text": [
      "Epoch 12: 100%|██████████| 2105/2105 [08:33<00:00,  4.10it/s, loss=0.437] \n",
      "Evaluation: 100%|██████████| 28/28 [00:01<00:00, 14.05it/s]\n"
     ]
    },
    {
     "name": "stdout",
     "output_type": "stream",
     "text": [
      "Epoch 12 - Accuracy: 0.8383\n"
     ]
    },
    {
     "name": "stderr",
     "output_type": "stream",
     "text": [
      "Epoch 13: 100%|██████████| 2105/2105 [08:33<00:00,  4.10it/s, loss=0.251] \n",
      "Evaluation: 100%|██████████| 28/28 [00:01<00:00, 14.05it/s]\n"
     ]
    },
    {
     "name": "stdout",
     "output_type": "stream",
     "text": [
      "Epoch 13 - Accuracy: 0.8314\n"
     ]
    },
    {
     "name": "stderr",
     "output_type": "stream",
     "text": [
      "Epoch 14: 100%|██████████| 2105/2105 [08:33<00:00,  4.10it/s, loss=0.267] \n",
      "Evaluation: 100%|██████████| 28/28 [00:01<00:00, 14.06it/s]\n"
     ]
    },
    {
     "name": "stdout",
     "output_type": "stream",
     "text": [
      "Epoch 14 - Accuracy: 0.8360\n",
      "Early stopping triggered\n",
      "acc_with_amp 0.8405963302752294 train_time_with_amp 513.3677629573004 inf_time_with_amp 1.9464466571807861 memory_usage_with_amp 17093.6611328125\n",
      "Pruning amount: 0.99\n"
     ]
    },
    {
     "name": "stderr",
     "output_type": "stream",
     "text": [
      "Some weights of RobertaForSequenceClassification were not initialized from the model checkpoint at roberta-base and are newly initialized: ['classifier.dense.bias', 'classifier.dense.weight', 'classifier.out_proj.bias', 'classifier.out_proj.weight']\n",
      "You should probably TRAIN this model on a down-stream task to be able to use it for predictions and inference.\n",
      "/tmp/ipykernel_3889/4007737057.py:11: FutureWarning: You are using `torch.load` with `weights_only=False` (the current default value), which uses the default pickle module implicitly. It is possible to construct malicious pickle data which will execute arbitrary code during unpickling (See https://github.com/pytorch/pytorch/blob/main/SECURITY.md#untrusted-models for more details). In a future release, the default value for `weights_only` will be flipped to `True`. This limits the functions that could be executed during unpickling. Arbitrary objects will no longer be allowed to be loaded via this mode unless they are explicitly allowlisted by the user via `torch.serialization.add_safe_globals`. We recommend you start setting `weights_only=True` for any use case where you don't have full control of the loaded file. Please open an issue on GitHub for any issues related to this experimental feature.\n",
      "  model.load_state_dict(torch.load(\"dense_model_no_amp.pth\"))  # 저장된 모델 로드\n"
     ]
    },
    {
     "name": "stdout",
     "output_type": "stream",
     "text": [
      "Fine-tuning pruned model with 99.0% sparsity with AMP\n"
     ]
    },
    {
     "name": "stderr",
     "output_type": "stream",
     "text": [
      "Epoch 1: 100%|██████████| 2105/2105 [08:33<00:00,  4.10it/s, loss=0.69] \n",
      "Evaluation: 100%|██████████| 28/28 [00:01<00:00, 14.05it/s]\n"
     ]
    },
    {
     "name": "stdout",
     "output_type": "stream",
     "text": [
      "Epoch 1 - Accuracy: 0.5092\n"
     ]
    },
    {
     "name": "stderr",
     "output_type": "stream",
     "text": [
      "Epoch 2: 100%|██████████| 2105/2105 [08:33<00:00,  4.10it/s, loss=0.668]\n",
      "Evaluation: 100%|██████████| 28/28 [00:01<00:00, 14.05it/s]\n"
     ]
    },
    {
     "name": "stdout",
     "output_type": "stream",
     "text": [
      "Epoch 2 - Accuracy: 0.5092\n"
     ]
    },
    {
     "name": "stderr",
     "output_type": "stream",
     "text": [
      "Epoch 3: 100%|██████████| 2105/2105 [08:33<00:00,  4.10it/s, loss=0.758]\n",
      "Evaluation: 100%|██████████| 28/28 [00:01<00:00, 14.06it/s]\n"
     ]
    },
    {
     "name": "stdout",
     "output_type": "stream",
     "text": [
      "Epoch 3 - Accuracy: 0.5092\n"
     ]
    },
    {
     "name": "stderr",
     "output_type": "stream",
     "text": [
      "Epoch 4: 100%|██████████| 2105/2105 [08:33<00:00,  4.10it/s, loss=0.755]\n",
      "Evaluation: 100%|██████████| 28/28 [00:01<00:00, 14.02it/s]\n"
     ]
    },
    {
     "name": "stdout",
     "output_type": "stream",
     "text": [
      "Epoch 4 - Accuracy: 0.5092\n"
     ]
    },
    {
     "name": "stderr",
     "output_type": "stream",
     "text": [
      "Epoch 5: 100%|██████████| 2105/2105 [08:33<00:00,  4.10it/s, loss=0.584]\n",
      "Evaluation: 100%|██████████| 28/28 [00:01<00:00, 14.03it/s]\n"
     ]
    },
    {
     "name": "stdout",
     "output_type": "stream",
     "text": [
      "Epoch 5 - Accuracy: 0.5103\n"
     ]
    },
    {
     "name": "stderr",
     "output_type": "stream",
     "text": [
      "Epoch 6: 100%|██████████| 2105/2105 [08:33<00:00,  4.10it/s, loss=0.634]\n",
      "Evaluation: 100%|██████████| 28/28 [00:01<00:00, 14.05it/s]\n"
     ]
    },
    {
     "name": "stdout",
     "output_type": "stream",
     "text": [
      "Epoch 6 - Accuracy: 0.7167\n"
     ]
    },
    {
     "name": "stderr",
     "output_type": "stream",
     "text": [
      "Epoch 7: 100%|██████████| 2105/2105 [08:33<00:00,  4.10it/s, loss=0.531]\n",
      "Evaluation: 100%|██████████| 28/28 [00:01<00:00, 14.05it/s]\n"
     ]
    },
    {
     "name": "stdout",
     "output_type": "stream",
     "text": [
      "Epoch 7 - Accuracy: 0.7924\n"
     ]
    },
    {
     "name": "stderr",
     "output_type": "stream",
     "text": [
      "Epoch 8: 100%|██████████| 2105/2105 [08:33<00:00,  4.10it/s, loss=0.537]\n",
      "Evaluation: 100%|██████████| 28/28 [00:01<00:00, 14.04it/s]\n"
     ]
    },
    {
     "name": "stdout",
     "output_type": "stream",
     "text": [
      "Epoch 8 - Accuracy: 0.7936\n"
     ]
    },
    {
     "name": "stderr",
     "output_type": "stream",
     "text": [
      "Epoch 9: 100%|██████████| 2105/2105 [08:33<00:00,  4.10it/s, loss=0.366]\n",
      "Evaluation: 100%|██████████| 28/28 [00:01<00:00, 14.06it/s]\n"
     ]
    },
    {
     "name": "stdout",
     "output_type": "stream",
     "text": [
      "Epoch 9 - Accuracy: 0.8050\n"
     ]
    },
    {
     "name": "stderr",
     "output_type": "stream",
     "text": [
      "Epoch 10: 100%|██████████| 2105/2105 [08:33<00:00,  4.10it/s, loss=0.473]\n",
      "Evaluation: 100%|██████████| 28/28 [00:01<00:00, 14.08it/s]\n"
     ]
    },
    {
     "name": "stdout",
     "output_type": "stream",
     "text": [
      "Epoch 10 - Accuracy: 0.8085\n"
     ]
    },
    {
     "name": "stderr",
     "output_type": "stream",
     "text": [
      "Epoch 11: 100%|██████████| 2105/2105 [08:33<00:00,  4.10it/s, loss=0.373]\n",
      "Evaluation: 100%|██████████| 28/28 [00:01<00:00, 14.06it/s]\n"
     ]
    },
    {
     "name": "stdout",
     "output_type": "stream",
     "text": [
      "Epoch 11 - Accuracy: 0.8131\n"
     ]
    },
    {
     "name": "stderr",
     "output_type": "stream",
     "text": [
      "Epoch 12: 100%|██████████| 2105/2105 [08:33<00:00,  4.10it/s, loss=0.489]\n",
      "Evaluation: 100%|██████████| 28/28 [00:01<00:00, 14.08it/s]\n"
     ]
    },
    {
     "name": "stdout",
     "output_type": "stream",
     "text": [
      "Epoch 12 - Accuracy: 0.8200\n"
     ]
    },
    {
     "name": "stderr",
     "output_type": "stream",
     "text": [
      "Epoch 13: 100%|██████████| 2105/2105 [08:33<00:00,  4.10it/s, loss=0.274]\n",
      "Evaluation: 100%|██████████| 28/28 [00:01<00:00, 14.06it/s]\n"
     ]
    },
    {
     "name": "stdout",
     "output_type": "stream",
     "text": [
      "Epoch 13 - Accuracy: 0.8280\n"
     ]
    },
    {
     "name": "stderr",
     "output_type": "stream",
     "text": [
      "Epoch 14: 100%|██████████| 2105/2105 [08:33<00:00,  4.10it/s, loss=0.506]\n",
      "Evaluation: 100%|██████████| 28/28 [00:01<00:00, 14.07it/s]\n"
     ]
    },
    {
     "name": "stdout",
     "output_type": "stream",
     "text": [
      "Epoch 14 - Accuracy: 0.8165\n"
     ]
    },
    {
     "name": "stderr",
     "output_type": "stream",
     "text": [
      "Epoch 15: 100%|██████████| 2105/2105 [08:33<00:00,  4.10it/s, loss=0.34] \n",
      "Evaluation: 100%|██████████| 28/28 [00:01<00:00, 14.05it/s]\n"
     ]
    },
    {
     "name": "stdout",
     "output_type": "stream",
     "text": [
      "Epoch 15 - Accuracy: 0.8234\n"
     ]
    },
    {
     "name": "stderr",
     "output_type": "stream",
     "text": [
      "Epoch 16: 100%|██████████| 2105/2105 [08:33<00:00,  4.10it/s, loss=0.313]\n",
      "Evaluation: 100%|██████████| 28/28 [00:01<00:00, 14.02it/s]\n"
     ]
    },
    {
     "name": "stdout",
     "output_type": "stream",
     "text": [
      "Epoch 16 - Accuracy: 0.8291\n"
     ]
    },
    {
     "name": "stderr",
     "output_type": "stream",
     "text": [
      "Epoch 17: 100%|██████████| 2105/2105 [08:33<00:00,  4.10it/s, loss=0.411]\n",
      "Evaluation: 100%|██████████| 28/28 [00:01<00:00, 14.06it/s]\n"
     ]
    },
    {
     "name": "stdout",
     "output_type": "stream",
     "text": [
      "Epoch 17 - Accuracy: 0.8245\n"
     ]
    },
    {
     "name": "stderr",
     "output_type": "stream",
     "text": [
      "Epoch 18: 100%|██████████| 2105/2105 [08:33<00:00,  4.10it/s, loss=0.385]\n",
      "Evaluation: 100%|██████████| 28/28 [00:01<00:00, 14.05it/s]\n"
     ]
    },
    {
     "name": "stdout",
     "output_type": "stream",
     "text": [
      "Epoch 18 - Accuracy: 0.8268\n"
     ]
    },
    {
     "name": "stderr",
     "output_type": "stream",
     "text": [
      "Epoch 19: 100%|██████████| 2105/2105 [08:33<00:00,  4.10it/s, loss=0.475]\n",
      "Evaluation: 100%|██████████| 28/28 [00:01<00:00, 14.07it/s]\n"
     ]
    },
    {
     "name": "stdout",
     "output_type": "stream",
     "text": [
      "Epoch 19 - Accuracy: 0.8280\n",
      "Early stopping triggered\n",
      "acc_with_amp 0.8291284403669725 train_time_with_amp 513.3211501272101 inf_time_with_amp 1.9483449459075928 memory_usage_with_amp 17093.6611328125\n"
     ]
    }
   ],
   "source": [
    "# 결과를 저장할 데이터프레임 생성\n",
    "results_df5 = pd.DataFrame(columns=[\"Pruning_Amount\", \"AMP_Enabled\", \"Accuracy\", \"Training_Time\", \"Inference_Time\", \"Memory_Usage_MB\"])\n",
    "\n",
    "prune_amounts = [0.93, 0.95, 0.97, 0.99]\n",
    "\n",
    "for amount in prune_amounts:\n",
    "    print(f\"Pruning amount: {amount}\")\n",
    "    \n",
    "    # Dense 상태에서 학습된 모델 로드 (AMP 적용하지 않은 모델 사용)\n",
    "    model = RobertaForSequenceClassification.from_pretrained('roberta-base', num_labels=2)\n",
    "    model.load_state_dict(torch.load(\"dense_model_no_amp.pth\"))  # 저장된 모델 로드\n",
    "    model.to(device)\n",
    "\n",
    "    # 프루닝 및 가중치 저장\n",
    "    prune_model(model, amount)\n",
    "    save_pruned_weights_in_coo_format(model, prune_amount=amount)\n",
    "    \n",
    "\n",
    "\n",
    "    # 프루닝 후 재학습 (AMP 적용한 경우)\n",
    "    print(f\"Fine-tuning pruned model with {amount*100}% sparsity with AMP\")\n",
    "    torch.cuda.reset_peak_memory_stats()\n",
    "    acc_with_amp, train_time_with_amp, inf_time_with_amp, memory_usage_with_amp = train_and_evaluate(\n",
    "        model, train_dataloader, eval_dataloader, amp_enabled=True, num_epochs=20)\n",
    "    print('acc_with_amp', acc_with_amp, 'train_time_with_amp', train_time_with_amp, 'inf_time_with_amp', inf_time_with_amp, 'memory_usage_with_amp', memory_usage_with_amp)\n",
    "    new_row5 = pd.DataFrame([{\n",
    "        \"Pruning_Amount\": amount, \n",
    "        \"AMP_Enabled\": True, \n",
    "        \"Accuracy\": acc_with_amp, \n",
    "        \"Training_Time\": train_time_with_amp, \n",
    "        \"Inference_Time\": inf_time_with_amp, \n",
    "        \"Memory_Usage_MB\": memory_usage_with_amp\n",
    "    }])\n",
    "    results_df5 = pd.concat([results_df5, new_row5], ignore_index=True)\n",
    "#json 파일로 저장\n",
    "results_df5.to_json(\"pruning_amp_results2.json\", orient=\"records\", lines=True)\n",
    "# 결과를 CSV 파일로 저장\n",
    "csv_filename = \"pruning_amp_results_real_real_final2.csv\"\n",
    "results_df5.to_csv(csv_filename, index=False)"
   ]
  },
  {
   "cell_type": "code",
   "execution_count": 20,
   "metadata": {},
   "outputs": [
    {
     "name": "stdout",
     "output_type": "stream",
     "text": [
      "Pruning amount: 0.5\n"
     ]
    },
    {
     "name": "stderr",
     "output_type": "stream",
     "text": [
      "Some weights of RobertaForSequenceClassification were not initialized from the model checkpoint at roberta-base and are newly initialized: ['classifier.dense.bias', 'classifier.dense.weight', 'classifier.out_proj.bias', 'classifier.out_proj.weight']\n",
      "You should probably TRAIN this model on a down-stream task to be able to use it for predictions and inference.\n",
      "/tmp/ipykernel_3889/2905237545.py:11: FutureWarning: You are using `torch.load` with `weights_only=False` (the current default value), which uses the default pickle module implicitly. It is possible to construct malicious pickle data which will execute arbitrary code during unpickling (See https://github.com/pytorch/pytorch/blob/main/SECURITY.md#untrusted-models for more details). In a future release, the default value for `weights_only` will be flipped to `True`. This limits the functions that could be executed during unpickling. Arbitrary objects will no longer be allowed to be loaded via this mode unless they are explicitly allowlisted by the user via `torch.serialization.add_safe_globals`. We recommend you start setting `weights_only=True` for any use case where you don't have full control of the loaded file. Please open an issue on GitHub for any issues related to this experimental feature.\n",
      "  model.load_state_dict(torch.load(\"dense_model_no_amp.pth\"))  # 저장된 모델 로드\n"
     ]
    },
    {
     "name": "stdout",
     "output_type": "stream",
     "text": [
      "Fine-tuning pruned model with 50.0% sparsity with AMP\n"
     ]
    },
    {
     "name": "stderr",
     "output_type": "stream",
     "text": [
      "Epoch 1: 100%|██████████| 2105/2105 [08:33<00:00,  4.10it/s, loss=0.134]  \n",
      "Evaluation: 100%|██████████| 28/28 [00:01<00:00, 14.05it/s]\n"
     ]
    },
    {
     "name": "stdout",
     "output_type": "stream",
     "text": [
      "Epoch 1 - Accuracy: 0.9289\n"
     ]
    },
    {
     "name": "stderr",
     "output_type": "stream",
     "text": [
      "Epoch 2: 100%|██████████| 2105/2105 [08:33<00:00,  4.10it/s, loss=0.0886] \n",
      "Evaluation: 100%|██████████| 28/28 [00:01<00:00, 14.04it/s]\n"
     ]
    },
    {
     "name": "stdout",
     "output_type": "stream",
     "text": [
      "Epoch 2 - Accuracy: 0.9358\n"
     ]
    },
    {
     "name": "stderr",
     "output_type": "stream",
     "text": [
      "Epoch 3: 100%|██████████| 2105/2105 [08:33<00:00,  4.10it/s, loss=0.39]   \n",
      "Evaluation: 100%|██████████| 28/28 [00:01<00:00, 14.02it/s]\n"
     ]
    },
    {
     "name": "stdout",
     "output_type": "stream",
     "text": [
      "Epoch 3 - Accuracy: 0.9346\n"
     ]
    },
    {
     "name": "stderr",
     "output_type": "stream",
     "text": [
      "Epoch 4: 100%|██████████| 2105/2105 [08:33<00:00,  4.10it/s, loss=0.00831] \n",
      "Evaluation: 100%|██████████| 28/28 [00:01<00:00, 14.05it/s]\n"
     ]
    },
    {
     "name": "stdout",
     "output_type": "stream",
     "text": [
      "Epoch 4 - Accuracy: 0.9427\n"
     ]
    },
    {
     "name": "stderr",
     "output_type": "stream",
     "text": [
      "Epoch 5: 100%|██████████| 2105/2105 [08:33<00:00,  4.10it/s, loss=0.0024]  \n",
      "Evaluation: 100%|██████████| 28/28 [00:01<00:00, 14.04it/s]\n"
     ]
    },
    {
     "name": "stdout",
     "output_type": "stream",
     "text": [
      "Epoch 5 - Accuracy: 0.9346\n"
     ]
    },
    {
     "name": "stderr",
     "output_type": "stream",
     "text": [
      "Epoch 6:  76%|███████▋  | 1607/2105 [06:32<02:01,  4.10it/s, loss=0.00454] \n"
     ]
    },
    {
     "ename": "KeyboardInterrupt",
     "evalue": "",
     "output_type": "error",
     "traceback": [
      "\u001b[0;31m---------------------------------------------------------------------------\u001b[0m",
      "\u001b[0;31mKeyboardInterrupt\u001b[0m                         Traceback (most recent call last)",
      "Cell \u001b[0;32mIn[20], line 23\u001b[0m\n\u001b[1;32m     21\u001b[0m \u001b[38;5;28mprint\u001b[39m(\u001b[38;5;124mf\u001b[39m\u001b[38;5;124m\"\u001b[39m\u001b[38;5;124mFine-tuning pruned model with \u001b[39m\u001b[38;5;132;01m{\u001b[39;00mamount\u001b[38;5;241m*\u001b[39m\u001b[38;5;241m100\u001b[39m\u001b[38;5;132;01m}\u001b[39;00m\u001b[38;5;124m% sparsity with AMP\u001b[39m\u001b[38;5;124m\"\u001b[39m)\n\u001b[1;32m     22\u001b[0m torch\u001b[38;5;241m.\u001b[39mcuda\u001b[38;5;241m.\u001b[39mreset_peak_memory_stats()\n\u001b[0;32m---> 23\u001b[0m acc_with_amp, train_time_with_amp, inf_time_with_amp, memory_usage_with_amp \u001b[38;5;241m=\u001b[39m \u001b[43mtrain_and_evaluate\u001b[49m\u001b[43m(\u001b[49m\n\u001b[1;32m     24\u001b[0m \u001b[43m    \u001b[49m\u001b[43mmodel\u001b[49m\u001b[43m,\u001b[49m\u001b[43m \u001b[49m\u001b[43mtrain_dataloader\u001b[49m\u001b[43m,\u001b[49m\u001b[43m \u001b[49m\u001b[43meval_dataloader\u001b[49m\u001b[43m,\u001b[49m\u001b[43m \u001b[49m\u001b[43mamp_enabled\u001b[49m\u001b[38;5;241;43m=\u001b[39;49m\u001b[38;5;28;43;01mTrue\u001b[39;49;00m\u001b[43m,\u001b[49m\u001b[43m \u001b[49m\u001b[43mnum_epochs\u001b[49m\u001b[38;5;241;43m=\u001b[39;49m\u001b[38;5;241;43m20\u001b[39;49m\u001b[43m)\u001b[49m\n\u001b[1;32m     25\u001b[0m \u001b[38;5;28mprint\u001b[39m(\u001b[38;5;124m'\u001b[39m\u001b[38;5;124macc_with_amp\u001b[39m\u001b[38;5;124m'\u001b[39m, acc_with_amp, \u001b[38;5;124m'\u001b[39m\u001b[38;5;124mtrain_time_with_amp\u001b[39m\u001b[38;5;124m'\u001b[39m, train_time_with_amp, \u001b[38;5;124m'\u001b[39m\u001b[38;5;124minf_time_with_amp\u001b[39m\u001b[38;5;124m'\u001b[39m, inf_time_with_amp, \u001b[38;5;124m'\u001b[39m\u001b[38;5;124mmemory_usage_with_amp\u001b[39m\u001b[38;5;124m'\u001b[39m, memory_usage_with_amp)\n\u001b[1;32m     26\u001b[0m new_row7 \u001b[38;5;241m=\u001b[39m pd\u001b[38;5;241m.\u001b[39mDataFrame([{\n\u001b[1;32m     27\u001b[0m     \u001b[38;5;124m\"\u001b[39m\u001b[38;5;124mPruning_Amount\u001b[39m\u001b[38;5;124m\"\u001b[39m: amount, \n\u001b[1;32m     28\u001b[0m     \u001b[38;5;124m\"\u001b[39m\u001b[38;5;124mAMP_Enabled\u001b[39m\u001b[38;5;124m\"\u001b[39m: \u001b[38;5;28;01mTrue\u001b[39;00m, \n\u001b[0;32m   (...)\u001b[0m\n\u001b[1;32m     32\u001b[0m     \u001b[38;5;124m\"\u001b[39m\u001b[38;5;124mMemory_Usage_MB\u001b[39m\u001b[38;5;124m\"\u001b[39m: memory_usage_with_amp\n\u001b[1;32m     33\u001b[0m }])\n",
      "Cell \u001b[0;32mIn[16], line 26\u001b[0m, in \u001b[0;36mtrain_and_evaluate\u001b[0;34m(model, train_dataloader, eval_dataloader, amp_enabled, num_epochs)\u001b[0m\n\u001b[1;32m     23\u001b[0m     outputs \u001b[38;5;241m=\u001b[39m model(\u001b[38;5;241m*\u001b[39m\u001b[38;5;241m*\u001b[39mbatch)\n\u001b[1;32m     24\u001b[0m     loss \u001b[38;5;241m=\u001b[39m outputs\u001b[38;5;241m.\u001b[39mloss\n\u001b[0;32m---> 26\u001b[0m \u001b[43mscaler\u001b[49m\u001b[38;5;241;43m.\u001b[39;49m\u001b[43mscale\u001b[49m\u001b[43m(\u001b[49m\u001b[43mloss\u001b[49m\u001b[43m)\u001b[49m\u001b[38;5;241;43m.\u001b[39;49m\u001b[43mbackward\u001b[49m\u001b[43m(\u001b[49m\u001b[43m)\u001b[49m\n\u001b[1;32m     27\u001b[0m scaler\u001b[38;5;241m.\u001b[39mstep(optimizer)\n\u001b[1;32m     28\u001b[0m scaler\u001b[38;5;241m.\u001b[39mupdate()\n",
      "File \u001b[0;32m~/.local/lib/python3.10/site-packages/torch/_tensor.py:521\u001b[0m, in \u001b[0;36mTensor.backward\u001b[0;34m(self, gradient, retain_graph, create_graph, inputs)\u001b[0m\n\u001b[1;32m    511\u001b[0m \u001b[38;5;28;01mif\u001b[39;00m has_torch_function_unary(\u001b[38;5;28mself\u001b[39m):\n\u001b[1;32m    512\u001b[0m     \u001b[38;5;28;01mreturn\u001b[39;00m handle_torch_function(\n\u001b[1;32m    513\u001b[0m         Tensor\u001b[38;5;241m.\u001b[39mbackward,\n\u001b[1;32m    514\u001b[0m         (\u001b[38;5;28mself\u001b[39m,),\n\u001b[0;32m   (...)\u001b[0m\n\u001b[1;32m    519\u001b[0m         inputs\u001b[38;5;241m=\u001b[39minputs,\n\u001b[1;32m    520\u001b[0m     )\n\u001b[0;32m--> 521\u001b[0m \u001b[43mtorch\u001b[49m\u001b[38;5;241;43m.\u001b[39;49m\u001b[43mautograd\u001b[49m\u001b[38;5;241;43m.\u001b[39;49m\u001b[43mbackward\u001b[49m\u001b[43m(\u001b[49m\n\u001b[1;32m    522\u001b[0m \u001b[43m    \u001b[49m\u001b[38;5;28;43mself\u001b[39;49m\u001b[43m,\u001b[49m\u001b[43m \u001b[49m\u001b[43mgradient\u001b[49m\u001b[43m,\u001b[49m\u001b[43m \u001b[49m\u001b[43mretain_graph\u001b[49m\u001b[43m,\u001b[49m\u001b[43m \u001b[49m\u001b[43mcreate_graph\u001b[49m\u001b[43m,\u001b[49m\u001b[43m \u001b[49m\u001b[43minputs\u001b[49m\u001b[38;5;241;43m=\u001b[39;49m\u001b[43minputs\u001b[49m\n\u001b[1;32m    523\u001b[0m \u001b[43m\u001b[49m\u001b[43m)\u001b[49m\n",
      "File \u001b[0;32m~/.local/lib/python3.10/site-packages/torch/autograd/__init__.py:289\u001b[0m, in \u001b[0;36mbackward\u001b[0;34m(tensors, grad_tensors, retain_graph, create_graph, grad_variables, inputs)\u001b[0m\n\u001b[1;32m    284\u001b[0m     retain_graph \u001b[38;5;241m=\u001b[39m create_graph\n\u001b[1;32m    286\u001b[0m \u001b[38;5;66;03m# The reason we repeat the same comment below is that\u001b[39;00m\n\u001b[1;32m    287\u001b[0m \u001b[38;5;66;03m# some Python versions print out the first line of a multi-line function\u001b[39;00m\n\u001b[1;32m    288\u001b[0m \u001b[38;5;66;03m# calls in the traceback and some print out the last line\u001b[39;00m\n\u001b[0;32m--> 289\u001b[0m \u001b[43m_engine_run_backward\u001b[49m\u001b[43m(\u001b[49m\n\u001b[1;32m    290\u001b[0m \u001b[43m    \u001b[49m\u001b[43mtensors\u001b[49m\u001b[43m,\u001b[49m\n\u001b[1;32m    291\u001b[0m \u001b[43m    \u001b[49m\u001b[43mgrad_tensors_\u001b[49m\u001b[43m,\u001b[49m\n\u001b[1;32m    292\u001b[0m \u001b[43m    \u001b[49m\u001b[43mretain_graph\u001b[49m\u001b[43m,\u001b[49m\n\u001b[1;32m    293\u001b[0m \u001b[43m    \u001b[49m\u001b[43mcreate_graph\u001b[49m\u001b[43m,\u001b[49m\n\u001b[1;32m    294\u001b[0m \u001b[43m    \u001b[49m\u001b[43minputs\u001b[49m\u001b[43m,\u001b[49m\n\u001b[1;32m    295\u001b[0m \u001b[43m    \u001b[49m\u001b[43mallow_unreachable\u001b[49m\u001b[38;5;241;43m=\u001b[39;49m\u001b[38;5;28;43;01mTrue\u001b[39;49;00m\u001b[43m,\u001b[49m\n\u001b[1;32m    296\u001b[0m \u001b[43m    \u001b[49m\u001b[43maccumulate_grad\u001b[49m\u001b[38;5;241;43m=\u001b[39;49m\u001b[38;5;28;43;01mTrue\u001b[39;49;00m\u001b[43m,\u001b[49m\n\u001b[1;32m    297\u001b[0m \u001b[43m\u001b[49m\u001b[43m)\u001b[49m\n",
      "File \u001b[0;32m~/.local/lib/python3.10/site-packages/torch/autograd/graph.py:768\u001b[0m, in \u001b[0;36m_engine_run_backward\u001b[0;34m(t_outputs, *args, **kwargs)\u001b[0m\n\u001b[1;32m    766\u001b[0m     unregister_hooks \u001b[38;5;241m=\u001b[39m _register_logging_hooks_on_whole_graph(t_outputs)\n\u001b[1;32m    767\u001b[0m \u001b[38;5;28;01mtry\u001b[39;00m:\n\u001b[0;32m--> 768\u001b[0m     \u001b[38;5;28;01mreturn\u001b[39;00m \u001b[43mVariable\u001b[49m\u001b[38;5;241;43m.\u001b[39;49m\u001b[43m_execution_engine\u001b[49m\u001b[38;5;241;43m.\u001b[39;49m\u001b[43mrun_backward\u001b[49m\u001b[43m(\u001b[49m\u001b[43m  \u001b[49m\u001b[38;5;66;43;03m# Calls into the C++ engine to run the backward pass\u001b[39;49;00m\n\u001b[1;32m    769\u001b[0m \u001b[43m        \u001b[49m\u001b[43mt_outputs\u001b[49m\u001b[43m,\u001b[49m\u001b[43m \u001b[49m\u001b[38;5;241;43m*\u001b[39;49m\u001b[43margs\u001b[49m\u001b[43m,\u001b[49m\u001b[43m \u001b[49m\u001b[38;5;241;43m*\u001b[39;49m\u001b[38;5;241;43m*\u001b[39;49m\u001b[43mkwargs\u001b[49m\n\u001b[1;32m    770\u001b[0m \u001b[43m    \u001b[49m\u001b[43m)\u001b[49m  \u001b[38;5;66;03m# Calls into the C++ engine to run the backward pass\u001b[39;00m\n\u001b[1;32m    771\u001b[0m \u001b[38;5;28;01mfinally\u001b[39;00m:\n\u001b[1;32m    772\u001b[0m     \u001b[38;5;28;01mif\u001b[39;00m attach_logging_hooks:\n",
      "\u001b[0;31mKeyboardInterrupt\u001b[0m: "
     ]
    }
   ],
   "source": [
    "# 결과를 저장할 데이터프레임 생성\n",
    "results_df7 = pd.DataFrame(columns=[\"Pruning_Amount\", \"AMP_Enabled\", \"Accuracy\", \"Training_Time\", \"Inference_Time\", \"Memory_Usage_MB\"])\n",
    "\n",
    "prune_amounts = [0.5, 0.6, 0.7, 0.8, 0.9]  # 프루닝 비율\n",
    "\n",
    "for amount in prune_amounts:\n",
    "    print(f\"Pruning amount: {amount}\")\n",
    "    \n",
    "    # Dense 상태에서 학습된 모델 로드 (AMP 적용하지 않은 모델 사용)\n",
    "    model = RobertaForSequenceClassification.from_pretrained('roberta-base', num_labels=2)\n",
    "    model.load_state_dict(torch.load(\"dense_model_no_amp.pth\"))  # 저장된 모델 로드\n",
    "    model.to(device)\n",
    "\n",
    "    # 프루닝 및 가중치 저장\n",
    "    prune_model(model, amount)\n",
    "    save_pruned_weights_in_coo_format(model, prune_amount=amount)\n",
    "    \n",
    "\n",
    "\n",
    "    # 프루닝 후 재학습 (AMP 적용한 경우)\n",
    "    print(f\"Fine-tuning pruned model with {amount*100}% sparsity with AMP\")\n",
    "    torch.cuda.reset_peak_memory_stats()\n",
    "    acc_with_amp, train_time_with_amp, inf_time_with_amp, memory_usage_with_amp = train_and_evaluate(\n",
    "        model, train_dataloader, eval_dataloader, amp_enabled=True, num_epochs=20)\n",
    "    print('acc_with_amp', acc_with_amp, 'train_time_with_amp', train_time_with_amp, 'inf_time_with_amp', inf_time_with_amp, 'memory_usage_with_amp', memory_usage_with_amp)\n",
    "    new_row7 = pd.DataFrame([{\n",
    "        \"Pruning_Amount\": amount, \n",
    "        \"AMP_Enabled\": True, \n",
    "        \"Accuracy\": acc_with_amp, \n",
    "        \"Training_Time\": train_time_with_amp, \n",
    "        \"Inference_Time\": inf_time_with_amp, \n",
    "        \"Memory_Usage_MB\": memory_usage_with_amp\n",
    "    }])\n",
    "    results_df7 = pd.concat([results_df7, new_row7], ignore_index=True)\n",
    "#json 파일로 저장\n",
    "results_df7.to_json(\"pruning_amp_results4.json\", orient=\"records\", lines=True)\n",
    "# 결과를 CSV 파일로 저장\n",
    "csv_filename = \"pruning_amp_results_real_real_final4.csv\"\n",
    "results_df7.to_csv(csv_filename, index=False)"
   ]
  },
  {
   "cell_type": "code",
   "execution_count": 2,
   "metadata": {},
   "outputs": [
    {
     "data": {
      "image/png": "[encoded data removed]",
      "text/plain": [
       "<Figure size 1000x600 with 1 Axes>"
      ]
     },
     "metadata": {},
     "output_type": "display_data"
    },
    {
     "data": {
      "image/png": "[encoded data removed]",
      "text/plain": [
       "<Figure size 1000x600 with 1 Axes>"
      ]
     },
     "metadata": {},
     "output_type": "display_data"
    },
    {
     "name": "stdout",
     "output_type": "stream",
     "text": [
      "acc_diff [-0.00114679  0.00458716  0.         -0.00229358  0.00344037  0.00114679\n",
      " -0.00114679 -0.00573394  0.00344037 -0.00688073  0.        ]\n"
     ]
    }
   ],
   "source": [
    "import matplotlib.pyplot as plt\n",
    "import numpy as np\n",
    "\n",
    "# 가상의 데이터 생성\n",
    "sparsity_levels = [0, 0.5, 0.6, 0.7, 0.8, 0.9, 0.93, 0.95, 0.97, 0.99, 1.0]\n",
    "acc_amp = [0.948394495412844, 0.9392201834862385, 0.9392201834862385, 0.8910550458715596, 0.8440366972477065, 0.8222477064220184, 0.8279816513761468, 0.8360091743119266, 0.8337155963302753 , 0.8291284403669725, 0.5091743119266054 ]\n",
    "acc_no_amp = [0.9472477064220184, 0.9438073394495413, 0.9392201834862385, 0.8887614678899083, 0.8474770642201835, 0.823394495412844, 0.8268348623853211, 0.8302752293577982, 0.8371559633027523, 0.8222477064220184, 0.5091743119266054 ]\n",
    "\n",
    "# 정확도 차이 계산\n",
    "acc_diff = np.array(acc_no_amp) - np.array(acc_amp)\n",
    "\n",
    "# 정확도 비교 그래프 (X축 비율 조정)\n",
    "plt.figure(figsize=(10, 6))\n",
    "\n",
    "# X축 비율을 동일하게 조정하기 위해 sparsity_levels의 비율을 재설정\n",
    "sparsity_levels_index = np.linspace(0, 1, len(sparsity_levels))\n",
    "plt.plot(sparsity_levels_index, acc_amp, 'bo-', label='AMP Enabled')\n",
    "plt.plot(sparsity_levels_index, acc_no_amp, 'r*-', label='AMP Disabled')\n",
    "plt.xlabel('Sparsity Level')\n",
    "plt.ylabel('Accuracy')\n",
    "plt.title('Accuracy vs Sparsity Level')\n",
    "plt.legend()\n",
    "plt.grid(True)\n",
    "plt.xticks(sparsity_levels_index, sparsity_levels)  # X축에 원래 sparsity 레벨 레이블 설정\n",
    "plt.ylim(0.45, 0.98)  # y축 범위 설정\n",
    "plt.savefig('accuracy_comparison_equal_spacing.png', dpi=300)\n",
    "plt.show()\n",
    "\n",
    "# 정확도 차이 그래프 (X축 비율 조정)\n",
    "plt.figure(figsize=(10, 6))\n",
    "plt.plot(sparsity_levels_index, acc_diff, 'g^-')\n",
    "plt.xlabel('Sparsity Level')\n",
    "plt.ylabel('Accuracy Difference (No AMP - AMP)')\n",
    "plt.title('Accuracy Difference by Sparsity Level')\n",
    "plt.grid(True)\n",
    "plt.xticks(sparsity_levels_index, sparsity_levels)  # X축에 원래 sparsity 레벨 레이블 설정\n",
    "plt.axhline(0, color='black', linestyle='--', linewidth=1)\n",
    "plt.savefig('accuracy_difference_equal_spacing.png', dpi=300)\n",
    "plt.show()\n",
    "\n",
    "print('acc_diff', acc_diff)"
   ]
  },
  {
   "cell_type": "code",
   "execution_count": 10,
   "metadata": {},
   "outputs": [
    {
     "data": {
      "image/png": "[encoded data removed]",
      "text/plain": [
       "<Figure size 1000x400 with 1 Axes>"
      ]
     },
     "metadata": {},
     "output_type": "display_data"
    },
    {
     "data": {
      "image/png": "[encoded data removed]",
      "text/plain": [
       "<Figure size 1000x400 with 1 Axes>"
      ]
     },
     "metadata": {},
     "output_type": "display_data"
    },
    {
     "name": "stdout",
     "output_type": "stream",
     "text": [
      "acc_diff [-0.00114679  0.00458716  0.         -0.00229358  0.00344037  0.00114679\n",
      " -0.00114679 -0.00573394  0.00344037 -0.00688073  0.        ]\n"
     ]
    }
   ],
   "source": [
    "# 전역 글꼴 크기 설정\n",
    "plt.rcParams.update({'font.size': 18})  # 전체 글자 크기를 14로 설정\n",
    "\n",
    "sparsity_levels_index = np.linspace(0, 1, len(sparsity_levels))\n",
    "\n",
    "# 첫 번째 그래프: Accuracy by Sparsity Level\n",
    "plt.figure(figsize=(10, 4))\n",
    "plt.plot(sparsity_levels_index, acc_amp, 'bo-', label='AMP Enabled')\n",
    "plt.plot(sparsity_levels_index, acc_no_amp, 'r*-', label='AMP Disabled')\n",
    "plt.xlabel('Sparsity Level')\n",
    "plt.ylabel('Accuracy')\n",
    "plt.title('Accuracy by Sparsity Level')\n",
    "plt.legend()\n",
    "plt.grid(True)\n",
    "plt.xticks(sparsity_levels_index, sparsity_levels)  # X축에 원래 sparsity 레벨 레이블 설정\n",
    "plt.ylim(0.45, 0.98)  # y축 범위 설정\n",
    "plt.savefig('accuracy_comparison_equal_spacing.png', dpi=300)\n",
    "plt.show()\n",
    "\n",
    "# 두 번째 그래프: Accuracy Difference by Sparsity Level\n",
    "plt.figure(figsize=(10, 4))\n",
    "plt.plot(sparsity_levels_index, acc_diff, 'g^-')\n",
    "plt.xlabel('Sparsity Level')\n",
    "plt.ylabel('Accuracy Difference')\n",
    "plt.title('Accuracy Difference by Sparsity Level')\n",
    "plt.grid(True)\n",
    "plt.xticks(sparsity_levels_index, sparsity_levels)  # X축에 원래 sparsity 레벨 레이블 설정\n",
    "plt.axhline(0, color='black', linestyle='--', linewidth=1)\n",
    "plt.savefig('accuracy_difference_equal_spacing.png', dpi=300)\n",
    "plt.show()\n",
    "\n",
    "print('acc_diff', acc_diff)"
   ]
  },
  {
   "cell_type": "code",
   "execution_count": 25,
   "metadata": {},
   "outputs": [
    {
     "name": "stdout",
     "output_type": "stream",
     "text": [
      "Package                  Version\n",
      "------------------------ ----------------\n",
      "about-time               4.2.1\n",
      "absl-py                  2.1.0\n",
      "accelerate               0.33.0\n",
      "aiohappyeyeballs         2.3.4\n",
      "aiohttp                  3.10.1\n",
      "aiosignal                1.3.1\n",
      "alive-progress           3.1.4\n",
      "appdirs                  1.4.4\n",
      "asttokens                2.4.1\n",
      "async-timeout            4.0.3\n",
      "attrs                    21.2.0\n",
      "autograd                 1.6.2\n",
      "Automat                  20.2.0\n",
      "Babel                    2.8.0\n",
      "bcrypt                   3.2.0\n",
      "blinker                  1.7.0\n",
      "build                    1.2.1\n",
      "catboost                 1.2.3\n",
      "category-encoders        2.6.3\n",
      "certifi                  2020.6.20\n",
      "chardet                  4.0.0\n",
      "charset-normalizer       3.3.2\n",
      "click                    8.1.7\n",
      "cloud-init               24.1.3\n",
      "cloudpickle              3.0.0\n",
      "cma                      3.2.2\n",
      "cmake                    3.27.2\n",
      "colorama                 0.4.4\n",
      "comm                     0.2.1\n",
      "command-not-found        0.3\n",
      "configobj                5.0.6\n",
      "constantly               15.1.0\n",
      "contourpy                1.1.1\n",
      "cryptography             3.4.8\n",
      "cuda-python              12.5.0\n",
      "cutlass-gemm             0.0.0\n",
      "cycler                   0.12.1\n",
      "Cython                   3.0.8\n",
      "dash                     2.15.0\n",
      "dash-core-components     2.0.0\n",
      "dash-html-components     2.0.0\n",
      "dash-table               5.0.0\n",
      "datasets                 2.20.0\n",
      "dbus-python              1.2.18\n",
      "debugpy                  1.8.1\n",
      "decorator                5.1.1\n",
      "Deprecated               1.2.14\n",
      "deprecation              2.1.0\n",
      "dill                     0.3.8\n",
      "distlib                  0.3.8\n",
      "distro                   1.7.0\n",
      "distro-info              1.1+ubuntu0.2\n",
      "evaluate                 0.4.2\n",
      "exceptiongroup           1.2.0\n",
      "executing                2.0.1\n",
      "fastjsonschema           2.19.1\n",
      "filelock                 3.15.4\n",
      "Flask                    3.0.2\n",
      "fonttools                4.43.1\n",
      "frozenlist               1.4.1\n",
      "fsspec                   2024.5.0\n",
      "future                   0.18.3\n",
      "grapheme                 0.6.0\n",
      "graphviz                 0.20.1\n",
      "grpcio                   1.65.4\n",
      "httplib2                 0.20.2\n",
      "huggingface-hub          0.24.5\n",
      "hyperlink                21.0.0\n",
      "ibm-cloud-sdk-core       3.18.1\n",
      "ibm-platform-services    0.48.0\n",
      "idna                     3.3\n",
      "imbalanced-learn         0.12.0\n",
      "importlib-metadata       7.0.1\n",
      "incremental              21.3.0\n",
      "ipykernel                6.29.3\n",
      "ipython                  8.22.1\n",
      "ipywidgets               8.1.2\n",
      "itsdangerous             2.1.2\n",
      "jedi                     0.19.1\n",
      "jeepney                  0.7.1\n",
      "Jinja2                   3.1.3\n",
      "joblib                   1.3.2\n",
      "jsonpatch                1.32\n",
      "jsonpointer              2.0\n",
      "jsonschema               3.2.0\n",
      "jupyter_client           8.6.0\n",
      "jupyter_core             5.7.1\n",
      "jupyterlab_widgets       3.0.10\n",
      "kaleido                  0.2.1\n",
      "keyring                  23.5.0\n",
      "kiwisolver               1.4.5\n",
      "launchpadlib             1.10.16\n",
      "lazr.restfulclient       0.14.4\n",
      "lazr.uri                 1.0.6\n",
      "lightgbm                 4.3.0\n",
      "lit                      16.0.6\n",
      "llvmlite                 0.42.0\n",
      "Mako                     1.3.5\n",
      "Markdown                 3.6\n",
      "MarkupSafe               2.1.5\n",
      "matplotlib               3.7.5\n",
      "matplotlib-inline        0.1.6\n",
      "more-itertools           8.10.0\n",
      "mpmath                   1.3.0\n",
      "multidict                6.0.5\n",
      "multiprocess             0.70.16\n",
      "nbformat                 5.9.2\n",
      "nest-asyncio             1.6.0\n",
      "netifaces                0.11.0\n",
      "networkx                 3.3\n",
      "ninja                    1.11.1\n",
      "nltk                     3.8.1\n",
      "numba                    0.59.0\n",
      "numpy                    1.26.1\n",
      "nvidia-cublas-cu12       12.1.3.1\n",
      "nvidia-cuda-cupti-cu12   12.1.105\n",
      "nvidia-cuda-nvrtc-cu12   12.1.105\n",
      "nvidia-cuda-runtime-cu12 12.1.105\n",
      "nvidia-cudnn-cu12        9.1.0.70\n",
      "nvidia-cufft-cu12        11.0.2.54\n",
      "nvidia-curand-cu12       10.3.2.106\n",
      "nvidia-cusolver-cu12     11.4.5.107\n",
      "nvidia-cusparse-cu12     12.1.0.106\n",
      "nvidia-cutlass           3.5.0.0\n",
      "nvidia-nccl-cu12         2.20.5\n",
      "nvidia-nvjitlink-cu12    12.5.82\n",
      "nvidia-nvtx-cu12         12.1.105\n",
      "oauthlib                 3.2.0\n",
      "orjson                   3.9.15\n",
      "packaging                23.2\n",
      "pandas                   2.1.4\n",
      "parso                    0.8.3\n",
      "patsy                    0.5.6\n",
      "pbr                      6.0.0\n",
      "pexpect                  4.8.0\n",
      "Pillow                   10.1.0\n",
      "pip                      22.0.2\n",
      "platformdirs             4.2.0\n",
      "plotly                   5.19.0\n",
      "plotly-resampler         0.9.2\n",
      "ply                      3.11\n",
      "pmdarima                 2.0.4\n",
      "prompt-toolkit           3.0.43\n",
      "protobuf                 4.25.4\n",
      "psutil                   5.9.6\n",
      "ptyprocess               0.7.0\n",
      "pure-eval                0.2.2\n",
      "pyarrow                  17.0.0\n",
      "pyarrow-hotfix           0.6\n",
      "pyasn1                   0.4.8\n",
      "pyasn1-modules           0.2.1\n",
      "pycaret                  3.3.0\n",
      "pycuda                   2024.1\n",
      "pydot                    2.0.0\n",
      "Pygments                 2.17.2\n",
      "PyGObject                3.42.1\n",
      "PyHamcrest               2.0.2\n",
      "PyJWT                    2.8.0\n",
      "pymoo                    0.6.0.1\n",
      "pyod                     1.1.3\n",
      "pyOpenSSL                21.0.0\n",
      "pyparsing                3.1.2\n",
      "pyproject_hooks          1.1.0\n",
      "pyrsistent               0.18.1\n",
      "pyserial                 3.5\n",
      "pyspnego                 0.10.2\n",
      "python-apt               2.4.0+ubuntu3\n",
      "python-dateutil          2.8.2\n",
      "python-debian            0.1.43+ubuntu1.1\n",
      "python-magic             0.4.24\n",
      "pytools                  2024.1.6\n",
      "pytorch-lightning        1.2.4\n",
      "pytz                     2022.1\n",
      "PyYAML                   6.0.1\n",
      "pyzmq                    25.1.2\n",
      "qiskit                   0.45.1\n",
      "qiskit-ibm-provider      0.7.2\n",
      "qiskit-ibm-runtime       0.17.0\n",
      "qiskit-terra             0.45.1\n",
      "regex                    2024.7.24\n",
      "requests                 2.32.3\n",
      "requests-ntlm            1.2.0\n",
      "retrying                 1.3.4\n",
      "rustworkx                0.13.2\n",
      "safetensors              0.4.4\n",
      "schemdraw                0.15\n",
      "scikit-base              0.7.2\n",
      "scikit-learn             1.4.1.post1\n",
      "scikit-plot              0.3.7\n",
      "scipy                    1.11.3\n",
      "screen-resolution-extra  0.0.0\n",
      "seaborn                  0.13.2\n",
      "SecretStorage            3.3.1\n",
      "service-identity         18.1.0\n",
      "setuptools               72.1.0\n",
      "six                      1.16.0\n",
      "sktime                   0.26.1\n",
      "smart-open               7.0.4\n",
      "sos                      4.5.6\n",
      "ssh-import-id            5.11\n",
      "stack-data               0.6.3\n",
      "statsmodels              0.14.1\n",
      "stevedore                5.1.0\n",
      "symengine                0.11.0\n",
      "sympy                    1.12\n",
      "systemd-python           234\n",
      "tbats                    1.1.3\n",
      "tenacity                 8.2.3\n",
      "tensorboard              2.17.0\n",
      "tensorboard-data-server  0.7.2\n",
      "Theano                   1.0.5\n",
      "threadpoolctl            3.3.0\n",
      "tokenizers               0.19.1\n",
      "tomli                    2.0.1\n",
      "torch                    2.4.0\n",
      "torchvision              0.19.0\n",
      "tornado                  6.4\n",
      "tqdm                     4.66.5\n",
      "traitlets                5.14.1\n",
      "transformers             4.43.4\n",
      "treelib                  1.7.0\n",
      "triton                   3.0.0\n",
      "tsdownsample             0.1.2\n",
      "Twisted                  22.1.0\n",
      "typing_extensions        4.8.0\n",
      "tzdata                   2024.1\n",
      "ubuntu-drivers-common    0.0.0\n",
      "ubuntu-pro-client        8001\n",
      "ufw                      0.36.1\n",
      "unattended-upgrades      0.1\n",
      "urllib3                  2.1.0\n",
      "virtualenv               20.26.3\n",
      "wadllib                  1.3.6\n",
      "wcwidth                  0.2.13\n",
      "websocket-client         1.7.0\n",
      "websockets               12.0\n",
      "Werkzeug                 3.0.1\n",
      "wheel                    0.37.1\n",
      "widgetsnbextension       4.0.10\n",
      "wrapt                    1.15.0\n",
      "wurlitzer                3.0.3\n",
      "xdg                      6.0.0\n",
      "xgboost                  2.0.3\n",
      "xkit                     0.0.0\n",
      "xxhash                   3.4.1\n",
      "yarl                     1.9.4\n",
      "yellowbrick              1.5\n",
      "zipp                     1.0.0\n",
      "zope.interface           5.4.0\n"
     ]
    }
   ],
   "source": [
    "!pip list"
   ]
  },
  {
   "cell_type": "code",
   "execution_count": 29,
   "metadata": {},
   "outputs": [
    {
     "name": "stdout",
     "output_type": "stream",
     "text": [
      "Defaulting to user installation because normal site-packages is not writeable\n",
      "Requirement already satisfied: transformers in /home/acorn0415/.local/lib/python3.10/site-packages (4.43.4)\n",
      "Requirement already satisfied: safetensors>=0.4.1 in /home/acorn0415/.local/lib/python3.10/site-packages (from transformers) (0.4.4)\n",
      "Requirement already satisfied: regex!=2019.12.17 in /home/acorn0415/.local/lib/python3.10/site-packages (from transformers) (2024.7.24)\n",
      "Requirement already satisfied: tokenizers<0.20,>=0.19 in /home/acorn0415/.local/lib/python3.10/site-packages (from transformers) (0.19.1)\n",
      "Requirement already satisfied: filelock in /home/acorn0415/.local/lib/python3.10/site-packages (from transformers) (3.15.4)\n",
      "Requirement already satisfied: tqdm>=4.27 in /home/acorn0415/.local/lib/python3.10/site-packages (from transformers) (4.66.5)\n",
      "Requirement already satisfied: huggingface-hub<1.0,>=0.23.2 in /home/acorn0415/.local/lib/python3.10/site-packages (from transformers) (0.24.5)\n",
      "Requirement already satisfied: requests in /home/acorn0415/.local/lib/python3.10/site-packages (from transformers) (2.32.3)\n",
      "Requirement already satisfied: pyyaml>=5.1 in /home/acorn0415/.local/lib/python3.10/site-packages (from transformers) (6.0.1)\n",
      "Requirement already satisfied: packaging>=20.0 in /usr/local/lib/python3.10/dist-packages (from transformers) (23.2)\n",
      "Requirement already satisfied: numpy>=1.17 in /usr/local/lib/python3.10/dist-packages (from transformers) (1.26.1)\n",
      "Requirement already satisfied: fsspec>=2023.5.0 in /home/acorn0415/.local/lib/python3.10/site-packages (from huggingface-hub<1.0,>=0.23.2->transformers) (2024.5.0)\n",
      "Requirement already satisfied: typing-extensions>=3.7.4.3 in /usr/local/lib/python3.10/dist-packages (from huggingface-hub<1.0,>=0.23.2->transformers) (4.8.0)\n",
      "Requirement already satisfied: idna<4,>=2.5 in /usr/lib/python3/dist-packages (from requests->transformers) (3.3)\n",
      "Requirement already satisfied: charset-normalizer<4,>=2 in /usr/local/lib/python3.10/dist-packages (from requests->transformers) (3.3.2)\n",
      "Requirement already satisfied: certifi>=2017.4.17 in /usr/lib/python3/dist-packages (from requests->transformers) (2020.6.20)\n",
      "Requirement already satisfied: urllib3<3,>=1.21.1 in /usr/local/lib/python3.10/dist-packages (from requests->transformers) (2.1.0)\n"
     ]
    }
   ],
   "source": [
    "!pip install transformers"
   ]
  },
  {
   "cell_type": "code",
   "execution_count": null,
   "metadata": {},
   "outputs": [],
   "source": []
  }
 ],
 "metadata": {
  "kernelspec": {
   "display_name": "Python 3",
   "language": "python",
   "name": "python3"
  },
  "language_info": {
   "codemirror_mode": {
    "name": "ipython",
    "version": 3
   },
   "file_extension": ".py",
   "mimetype": "text/x-python",
   "name": "python",
   "nbconvert_exporter": "python",
   "pygments_lexer": "ipython3",
   "version": "3.10.12"
  }
 },
 "nbformat": 4,
 "nbformat_minor": 2
}
